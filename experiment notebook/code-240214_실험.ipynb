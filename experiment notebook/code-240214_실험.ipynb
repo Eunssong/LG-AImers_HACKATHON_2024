{
 "cells": [
  {
   "cell_type": "markdown",
   "id": "017e9265",
   "metadata": {},
   "source": [
    "# 영업 성공 여부 분류 경진대회"
   ]
  },
  {
   "cell_type": "markdown",
   "id": "acdab431",
   "metadata": {},
   "source": [
    "## 1. 데이터 확인"
   ]
  },
  {
   "cell_type": "markdown",
   "id": "2b8341e8",
   "metadata": {},
   "source": [
    "### 필수 라이브러리"
   ]
  },
  {
   "cell_type": "code",
   "execution_count": 1,
   "id": "a315cc58",
   "metadata": {},
   "outputs": [
    {
     "name": "stderr",
     "output_type": "stream",
     "text": [
      "2024-02-14 12:25:15.080388: I tensorflow/core/util/port.cc:110] oneDNN custom operations are on. You may see slightly different numerical results due to floating-point round-off errors from different computation orders. To turn them off, set the environment variable `TF_ENABLE_ONEDNN_OPTS=0`.\n",
      "2024-02-14 12:25:15.121036: I tensorflow/core/platform/cpu_feature_guard.cc:182] This TensorFlow binary is optimized to use available CPU instructions in performance-critical operations.\n",
      "To enable the following instructions: AVX2 AVX512F AVX512_VNNI FMA, in other operations, rebuild TensorFlow with the appropriate compiler flags.\n",
      "2024-02-14 12:25:16.604762: W tensorflow/compiler/tf2tensorrt/utils/py_utils.cc:38] TF-TRT Warning: Could not find TensorRT\n"
     ]
    }
   ],
   "source": [
    "import pandas as pd\n",
    "import numpy as np\n",
    "from sklearn.metrics import (\n",
    "    accuracy_score,\n",
    "    confusion_matrix,\n",
    "    f1_score,\n",
    "    precision_score,\n",
    "    recall_score,\n",
    ")\n",
    "\n",
    "import tensorflow as tf\n",
    "\n",
    "from sklearn.model_selection import train_test_split\n",
    "from sklearn.tree import DecisionTreeClassifier"
   ]
  },
  {
   "cell_type": "markdown",
   "id": "412f98cc",
   "metadata": {},
   "source": [
    "### 데이터 셋 읽어오기"
   ]
  },
  {
   "cell_type": "code",
   "execution_count": 2,
   "id": "7ada941e",
   "metadata": {},
   "outputs": [],
   "source": [
    "df_train = pd.read_csv(\"train.csv\") # 학습용 데이터\n",
    "df_test = pd.read_csv(\"submission.csv\") # 테스트 데이터(제출파일의 데이터)"
   ]
  },
  {
   "cell_type": "code",
   "execution_count": 3,
   "id": "be9af12a",
   "metadata": {},
   "outputs": [
    {
     "data": {
      "text/html": [
       "<div>\n",
       "<style scoped>\n",
       "    .dataframe tbody tr th:only-of-type {\n",
       "        vertical-align: middle;\n",
       "    }\n",
       "\n",
       "    .dataframe tbody tr th {\n",
       "        vertical-align: top;\n",
       "    }\n",
       "\n",
       "    .dataframe thead th {\n",
       "        text-align: right;\n",
       "    }\n",
       "</style>\n",
       "<table border=\"1\" class=\"dataframe\">\n",
       "  <thead>\n",
       "    <tr style=\"text-align: right;\">\n",
       "      <th></th>\n",
       "      <th>bant_submit</th>\n",
       "      <th>customer_country</th>\n",
       "      <th>business_unit</th>\n",
       "      <th>com_reg_ver_win_rate</th>\n",
       "      <th>customer_idx</th>\n",
       "      <th>customer_type</th>\n",
       "      <th>enterprise</th>\n",
       "      <th>historical_existing_cnt</th>\n",
       "      <th>id_strategic_ver</th>\n",
       "      <th>it_strategic_ver</th>\n",
       "      <th>...</th>\n",
       "      <th>response_corporate</th>\n",
       "      <th>expected_timeline</th>\n",
       "      <th>ver_cus</th>\n",
       "      <th>ver_pro</th>\n",
       "      <th>ver_win_rate_x</th>\n",
       "      <th>ver_win_ratio_per_bu</th>\n",
       "      <th>business_area</th>\n",
       "      <th>business_subarea</th>\n",
       "      <th>lead_owner</th>\n",
       "      <th>is_converted</th>\n",
       "    </tr>\n",
       "  </thead>\n",
       "  <tbody>\n",
       "    <tr>\n",
       "      <th>0</th>\n",
       "      <td>1.0</td>\n",
       "      <td>/Quezon City/Philippines</td>\n",
       "      <td>AS</td>\n",
       "      <td>0.066667</td>\n",
       "      <td>32160</td>\n",
       "      <td>End-Customer</td>\n",
       "      <td>Enterprise</td>\n",
       "      <td>NaN</td>\n",
       "      <td>NaN</td>\n",
       "      <td>NaN</td>\n",
       "      <td>...</td>\n",
       "      <td>LGEPH</td>\n",
       "      <td>less than 3 months</td>\n",
       "      <td>1</td>\n",
       "      <td>0</td>\n",
       "      <td>0.003079</td>\n",
       "      <td>0.026846</td>\n",
       "      <td>corporate / office</td>\n",
       "      <td>Engineering</td>\n",
       "      <td>0</td>\n",
       "      <td>True</td>\n",
       "    </tr>\n",
       "    <tr>\n",
       "      <th>1</th>\n",
       "      <td>1.0</td>\n",
       "      <td>/PH-00/Philippines</td>\n",
       "      <td>AS</td>\n",
       "      <td>0.066667</td>\n",
       "      <td>23122</td>\n",
       "      <td>End-Customer</td>\n",
       "      <td>Enterprise</td>\n",
       "      <td>12.0</td>\n",
       "      <td>NaN</td>\n",
       "      <td>NaN</td>\n",
       "      <td>...</td>\n",
       "      <td>LGEPH</td>\n",
       "      <td>less than 3 months</td>\n",
       "      <td>1</td>\n",
       "      <td>0</td>\n",
       "      <td>0.003079</td>\n",
       "      <td>0.026846</td>\n",
       "      <td>corporate / office</td>\n",
       "      <td>Advertising</td>\n",
       "      <td>1</td>\n",
       "      <td>True</td>\n",
       "    </tr>\n",
       "    <tr>\n",
       "      <th>2</th>\n",
       "      <td>1.0</td>\n",
       "      <td>/Kolkata /India</td>\n",
       "      <td>AS</td>\n",
       "      <td>0.088889</td>\n",
       "      <td>1755</td>\n",
       "      <td>End-Customer</td>\n",
       "      <td>Enterprise</td>\n",
       "      <td>144.0</td>\n",
       "      <td>NaN</td>\n",
       "      <td>NaN</td>\n",
       "      <td>...</td>\n",
       "      <td>LGEIL</td>\n",
       "      <td>less than 3 months</td>\n",
       "      <td>1</td>\n",
       "      <td>0</td>\n",
       "      <td>0.003079</td>\n",
       "      <td>0.026846</td>\n",
       "      <td>corporate / office</td>\n",
       "      <td>Construction</td>\n",
       "      <td>2</td>\n",
       "      <td>True</td>\n",
       "    </tr>\n",
       "    <tr>\n",
       "      <th>3</th>\n",
       "      <td>1.0</td>\n",
       "      <td>/Bhubaneswar/India</td>\n",
       "      <td>AS</td>\n",
       "      <td>0.088889</td>\n",
       "      <td>4919</td>\n",
       "      <td>End-Customer</td>\n",
       "      <td>Enterprise</td>\n",
       "      <td>NaN</td>\n",
       "      <td>NaN</td>\n",
       "      <td>NaN</td>\n",
       "      <td>...</td>\n",
       "      <td>LGEIL</td>\n",
       "      <td>less than 3 months</td>\n",
       "      <td>1</td>\n",
       "      <td>0</td>\n",
       "      <td>0.003079</td>\n",
       "      <td>0.026846</td>\n",
       "      <td>corporate / office</td>\n",
       "      <td>IT/Software</td>\n",
       "      <td>3</td>\n",
       "      <td>True</td>\n",
       "    </tr>\n",
       "    <tr>\n",
       "      <th>4</th>\n",
       "      <td>1.0</td>\n",
       "      <td>/Hyderabad/India</td>\n",
       "      <td>AS</td>\n",
       "      <td>0.088889</td>\n",
       "      <td>17126</td>\n",
       "      <td>Specifier/ Influencer</td>\n",
       "      <td>Enterprise</td>\n",
       "      <td>NaN</td>\n",
       "      <td>NaN</td>\n",
       "      <td>NaN</td>\n",
       "      <td>...</td>\n",
       "      <td>LGEIL</td>\n",
       "      <td>less than 3 months</td>\n",
       "      <td>0</td>\n",
       "      <td>0</td>\n",
       "      <td>0.003079</td>\n",
       "      <td>0.026846</td>\n",
       "      <td>corporate / office</td>\n",
       "      <td>NaN</td>\n",
       "      <td>4</td>\n",
       "      <td>True</td>\n",
       "    </tr>\n",
       "  </tbody>\n",
       "</table>\n",
       "<p>5 rows × 29 columns</p>\n",
       "</div>"
      ],
      "text/plain": [
       "   bant_submit          customer_country business_unit  com_reg_ver_win_rate  \\\n",
       "0          1.0  /Quezon City/Philippines            AS              0.066667   \n",
       "1          1.0        /PH-00/Philippines            AS              0.066667   \n",
       "2          1.0           /Kolkata /India            AS              0.088889   \n",
       "3          1.0        /Bhubaneswar/India            AS              0.088889   \n",
       "4          1.0          /Hyderabad/India            AS              0.088889   \n",
       "\n",
       "   customer_idx          customer_type  enterprise  historical_existing_cnt  \\\n",
       "0         32160           End-Customer  Enterprise                      NaN   \n",
       "1         23122           End-Customer  Enterprise                     12.0   \n",
       "2          1755           End-Customer  Enterprise                    144.0   \n",
       "3          4919           End-Customer  Enterprise                      NaN   \n",
       "4         17126  Specifier/ Influencer  Enterprise                      NaN   \n",
       "\n",
       "   id_strategic_ver  it_strategic_ver  ...  response_corporate  \\\n",
       "0               NaN               NaN  ...               LGEPH   \n",
       "1               NaN               NaN  ...               LGEPH   \n",
       "2               NaN               NaN  ...               LGEIL   \n",
       "3               NaN               NaN  ...               LGEIL   \n",
       "4               NaN               NaN  ...               LGEIL   \n",
       "\n",
       "    expected_timeline  ver_cus ver_pro ver_win_rate_x ver_win_ratio_per_bu  \\\n",
       "0  less than 3 months        1       0       0.003079             0.026846   \n",
       "1  less than 3 months        1       0       0.003079             0.026846   \n",
       "2  less than 3 months        1       0       0.003079             0.026846   \n",
       "3  less than 3 months        1       0       0.003079             0.026846   \n",
       "4  less than 3 months        0       0       0.003079             0.026846   \n",
       "\n",
       "        business_area business_subarea lead_owner is_converted  \n",
       "0  corporate / office      Engineering          0         True  \n",
       "1  corporate / office      Advertising          1         True  \n",
       "2  corporate / office     Construction          2         True  \n",
       "3  corporate / office      IT/Software          3         True  \n",
       "4  corporate / office              NaN          4         True  \n",
       "\n",
       "[5 rows x 29 columns]"
      ]
     },
     "execution_count": 3,
     "metadata": {},
     "output_type": "execute_result"
    }
   ],
   "source": [
    "df_train.head() # 학습용 데이터 살펴보기"
   ]
  },
  {
   "cell_type": "code",
   "execution_count": 4,
   "id": "2bfb70f2",
   "metadata": {},
   "outputs": [
    {
     "name": "stdout",
     "output_type": "stream",
     "text": [
      "<class 'pandas.core.frame.DataFrame'>\n",
      "RangeIndex: 59299 entries, 0 to 59298\n",
      "Data columns (total 29 columns):\n",
      " #   Column                   Non-Null Count  Dtype  \n",
      "---  ------                   --------------  -----  \n",
      " 0   bant_submit              59299 non-null  float64\n",
      " 1   customer_country         58317 non-null  object \n",
      " 2   business_unit            59299 non-null  object \n",
      " 3   com_reg_ver_win_rate     14568 non-null  float64\n",
      " 4   customer_idx             59299 non-null  int64  \n",
      " 5   customer_type            15338 non-null  object \n",
      " 6   enterprise               59299 non-null  object \n",
      " 7   historical_existing_cnt  13756 non-null  float64\n",
      " 8   id_strategic_ver         3444 non-null   float64\n",
      " 9   it_strategic_ver         1121 non-null   float64\n",
      " 10  idit_strategic_ver       4565 non-null   float64\n",
      " 11  customer_job             40566 non-null  object \n",
      " 12  lead_desc_length         59299 non-null  int64  \n",
      " 13  inquiry_type             58358 non-null  object \n",
      " 14  product_category         39925 non-null  object \n",
      " 15  product_subcategory      9235 non-null   object \n",
      " 16  product_modelname        9229 non-null   object \n",
      " 17  customer_country.1       58317 non-null  object \n",
      " 18  customer_position        59299 non-null  object \n",
      " 19  response_corporate       59299 non-null  object \n",
      " 20  expected_timeline        28436 non-null  object \n",
      " 21  ver_cus                  59299 non-null  int64  \n",
      " 22  ver_pro                  59299 non-null  int64  \n",
      " 23  ver_win_rate_x           18417 non-null  float64\n",
      " 24  ver_win_ratio_per_bu     15304 non-null  float64\n",
      " 25  business_area            18417 non-null  object \n",
      " 26  business_subarea         5526 non-null   object \n",
      " 27  lead_owner               59299 non-null  int64  \n",
      " 28  is_converted             59299 non-null  bool   \n",
      "dtypes: bool(1), float64(8), int64(5), object(15)\n",
      "memory usage: 12.7+ MB\n"
     ]
    }
   ],
   "source": [
    "df_train.info()"
   ]
  },
  {
   "cell_type": "markdown",
   "id": "60a85d25",
   "metadata": {},
   "source": [
    "타겟 변수 'is_converted' 데이터 확인"
   ]
  },
  {
   "cell_type": "code",
   "execution_count": 5,
   "id": "fd93ee02",
   "metadata": {},
   "outputs": [
    {
     "data": {
      "text/plain": [
       "is_converted\n",
       "False    54449\n",
       "True      4850\n",
       "Name: count, dtype: int64"
      ]
     },
     "execution_count": 5,
     "metadata": {},
     "output_type": "execute_result"
    }
   ],
   "source": [
    "df_train['is_converted'].value_counts() # 데이터 불균형이 심하다. "
   ]
  },
  {
   "cell_type": "markdown",
   "id": "9461bb67",
   "metadata": {},
   "source": [
    "데이터 결측치 확인"
   ]
  },
  {
   "cell_type": "code",
   "execution_count": 6,
   "id": "2b204f22",
   "metadata": {
    "scrolled": true
   },
   "outputs": [
    {
     "data": {
      "text/plain": [
       "bant_submit                    0\n",
       "customer_country             982\n",
       "business_unit                  0\n",
       "com_reg_ver_win_rate       44731\n",
       "customer_idx                   0\n",
       "customer_type              43961\n",
       "enterprise                     0\n",
       "historical_existing_cnt    45543\n",
       "id_strategic_ver           55855\n",
       "it_strategic_ver           58178\n",
       "idit_strategic_ver         54734\n",
       "customer_job               18733\n",
       "lead_desc_length               0\n",
       "inquiry_type                 941\n",
       "product_category           19374\n",
       "product_subcategory        50064\n",
       "product_modelname          50070\n",
       "customer_country.1           982\n",
       "customer_position              0\n",
       "response_corporate             0\n",
       "expected_timeline          30863\n",
       "ver_cus                        0\n",
       "ver_pro                        0\n",
       "ver_win_rate_x             40882\n",
       "ver_win_ratio_per_bu       43995\n",
       "business_area              40882\n",
       "business_subarea           53773\n",
       "lead_owner                     0\n",
       "is_converted                   0\n",
       "dtype: int64"
      ]
     },
     "execution_count": 6,
     "metadata": {},
     "output_type": "execute_result"
    }
   ],
   "source": [
    "df_train.isnull().sum() # 결측치가 심하다. 제거 전에 상관관계를 확인해보자. "
   ]
  },
  {
   "cell_type": "code",
   "execution_count": 7,
   "id": "30c4bcff",
   "metadata": {},
   "outputs": [
    {
     "name": "stdout",
     "output_type": "stream",
     "text": [
      "상관 계수 between historical_existing_cnt and is_converted: -0.004489584471512195\n"
     ]
    }
   ],
   "source": [
    "def corr_with_target(df,variable1,variable2):\n",
    "    # 두 변수 간의 상관 계수를 계산합니다.\n",
    "    correlation = df[variable1].corr(df[variable2])\n",
    "\n",
    "    # 상관 계수를 출력합니다.\n",
    "    print(f\"상관 계수 between {variable1} and {variable2}: {correlation}\")\n",
    "\n",
    "corr_with_target(df_train,'historical_existing_cnt','is_converted')"
   ]
  },
  {
   "cell_type": "code",
   "execution_count": null,
   "id": "c2fd6985",
   "metadata": {},
   "outputs": [],
   "source": [
    "'''\n",
    "# string -> int로 변환 후 실행 해야 함\n",
    "for column_name in df_train.columns:\n",
    "    if df_train[column_name].isnull().sum() >= 50000:\n",
    "        print(column_name)\n",
    "        print(corr_with_target(df_train, column_name, 'is_converted'))\n",
    "    else:\n",
    "        pass\n",
    "'''"
   ]
  },
  {
   "cell_type": "code",
   "execution_count": null,
   "id": "ea043685",
   "metadata": {},
   "outputs": [],
   "source": [
    "# False 값을 가진 행의 인덱스를 추출.\n",
    "false_indices = df_train[df_train['customer_country.1'] != df_train['customer_country']].index\n",
    "\n",
    "# False 값을 가진 행의 인덱스와 해당 값들을 출력.\n",
    "for idx in false_indices:\n",
    "    print(\"인덱스:\", idx)\n",
    "    print(\"customer_country.1 값:\", df_train.at[idx, 'customer_country.1'])\n",
    "    print(\"customer_country 값:\", df_train.at[idx, 'customer_country'])\n",
    "    print()"
   ]
  },
  {
   "cell_type": "code",
   "execution_count": null,
   "id": "a9b258fc",
   "metadata": {},
   "outputs": [],
   "source": [
    "df_train['response_corporate'].value_counts()"
   ]
  },
  {
   "cell_type": "markdown",
   "id": "af526c13",
   "metadata": {},
   "source": [
    "## 2. 데이터 전처리"
   ]
  },
  {
   "cell_type": "code",
   "execution_count": 10,
   "id": "7cfb80d6",
   "metadata": {},
   "outputs": [
    {
     "data": {
      "text/plain": [
       "Index(['bant_submit', 'customer_country', 'business_unit',\n",
       "       'com_reg_ver_win_rate', 'customer_idx', 'customer_type', 'enterprise',\n",
       "       'historical_existing_cnt', 'id_strategic_ver', 'it_strategic_ver',\n",
       "       'idit_strategic_ver', 'customer_job', 'lead_desc_length',\n",
       "       'inquiry_type', 'product_category', 'product_subcategory',\n",
       "       'product_modelname', 'customer_country.1', 'customer_position',\n",
       "       'response_corporate', 'expected_timeline', 'ver_cus', 'ver_pro',\n",
       "       'ver_win_rate_x', 'ver_win_ratio_per_bu', 'business_area',\n",
       "       'business_subarea', 'lead_owner', 'is_converted'],\n",
       "      dtype='object')"
      ]
     },
     "execution_count": 10,
     "metadata": {},
     "output_type": "execute_result"
    }
   ],
   "source": [
    "df_train.columns"
   ]
  },
  {
   "cell_type": "markdown",
   "id": "596e740a",
   "metadata": {},
   "source": [
    "### 'customer_type' value 값 확인\n",
    "-> End-Customer, End Customer => 통합해야 함    \n",
    "-> Other, Others, Etcs."
   ]
  },
  {
   "cell_type": "code",
   "execution_count": 9,
   "id": "f0de1518",
   "metadata": {
    "scrolled": false
   },
   "outputs": [
    {
     "data": {
      "text/plain": [
       "customer_type\n",
       "NaN                             43961\n",
       "End-Customer                     6647\n",
       "End Customer                     3996\n",
       "Specifier/ Influencer            2525\n",
       "Channel Partner                  1368\n",
       "Service Partner                   349\n",
       "Solution Eco-Partner              146\n",
       "Installer/Contractor               52\n",
       "Specifier / Influencer             43\n",
       "Corporate                          31\n",
       "HVAC Engineer                      23\n",
       "Engineer                           20\n",
       "Developer                          17\n",
       "Technician                         16\n",
       "Consultant                         15\n",
       "Other                              10\n",
       "Home Owner                         10\n",
       "End-user                            8\n",
       "Manager / Director                  8\n",
       "Software/Solution Provider          7\n",
       "Etc.                                6\n",
       "Architect/Consultant                5\n",
       "Homeowner                           5\n",
       "Reseller                            5\n",
       "Installer                           5\n",
       "Interior Designer                   5\n",
       "Distributor                         4\n",
       "Others                              4\n",
       "Dealer/Distributor                  2\n",
       "System Integrator                   2\n",
       "Software / Solution Provider        1\n",
       "Technical Assistant                 1\n",
       "Commercial end-user                 1\n",
       "Administrator                       1\n",
       "Name: count, dtype: int64"
      ]
     },
     "execution_count": 9,
     "metadata": {},
     "output_type": "execute_result"
    }
   ],
   "source": [
    "df_train['customer_type'].value_counts(dropna = False)"
   ]
  },
  {
   "cell_type": "code",
   "execution_count": 11,
   "id": "e077db6f",
   "metadata": {
    "scrolled": true
   },
   "outputs": [
    {
     "data": {
      "text/plain": [
       "ver_cus\n",
       "0    56832\n",
       "1     2467\n",
       "Name: count, dtype: int64"
      ]
     },
     "execution_count": 11,
     "metadata": {},
     "output_type": "execute_result"
    }
   ],
   "source": [
    "df_train['ver_cus'].value_counts(dropna = False)"
   ]
  },
  {
   "cell_type": "code",
   "execution_count": 20,
   "id": "db2c2752",
   "metadata": {},
   "outputs": [
    {
     "data": {
      "text/plain": [
       "array(['End-Customer', 'End Customer', 'End-user'], dtype=object)"
      ]
     },
     "execution_count": 20,
     "metadata": {},
     "output_type": "execute_result"
    }
   ],
   "source": [
    "df_train[df_train['ver_cus'] == 1]['customer_type'].unique()"
   ]
  },
  {
   "cell_type": "code",
   "execution_count": 21,
   "id": "7a35b998",
   "metadata": {},
   "outputs": [
    {
     "data": {
      "text/plain": [
       "array(['Specifier/ Influencer', 'Service Partner', 'Channel Partner', nan,\n",
       "       'Corporate', 'End-Customer', 'Specifier / Influencer',\n",
       "       'Solution Eco-Partner', 'Distributor', 'Other', 'End Customer',\n",
       "       'System Integrator', 'Consultant', 'Installer', 'Homeowner',\n",
       "       'Others', 'Technician', 'Installer/Contractor', 'Engineer',\n",
       "       'Manager / Director', 'Developer', 'Etc.', 'Architect/Consultant',\n",
       "       'HVAC Engineer', 'Reseller', 'Software/Solution Provider',\n",
       "       'End-user', 'Software / Solution Provider', 'Dealer/Distributor',\n",
       "       'Technical Assistant', 'Commercial end-user', 'Interior Designer',\n",
       "       'Home Owner', 'Administrator'], dtype=object)"
      ]
     },
     "execution_count": 21,
     "metadata": {},
     "output_type": "execute_result"
    }
   ],
   "source": [
    "df_train[df_train['ver_cus'] == 0]['customer_type'].unique()"
   ]
  },
  {
   "cell_type": "code",
   "execution_count": 28,
   "id": "764caba8",
   "metadata": {},
   "outputs": [
    {
     "data": {
      "text/html": [
       "<div>\n",
       "<style scoped>\n",
       "    .dataframe tbody tr th:only-of-type {\n",
       "        vertical-align: middle;\n",
       "    }\n",
       "\n",
       "    .dataframe tbody tr th {\n",
       "        vertical-align: top;\n",
       "    }\n",
       "\n",
       "    .dataframe thead th {\n",
       "        text-align: right;\n",
       "    }\n",
       "</style>\n",
       "<table border=\"1\" class=\"dataframe\">\n",
       "  <thead>\n",
       "    <tr style=\"text-align: right;\">\n",
       "      <th></th>\n",
       "      <th>bant_submit</th>\n",
       "      <th>customer_country</th>\n",
       "      <th>business_unit</th>\n",
       "      <th>com_reg_ver_win_rate</th>\n",
       "      <th>customer_idx</th>\n",
       "      <th>customer_type</th>\n",
       "      <th>enterprise</th>\n",
       "      <th>historical_existing_cnt</th>\n",
       "      <th>id_strategic_ver</th>\n",
       "      <th>it_strategic_ver</th>\n",
       "      <th>...</th>\n",
       "      <th>response_corporate</th>\n",
       "      <th>expected_timeline</th>\n",
       "      <th>ver_cus</th>\n",
       "      <th>ver_pro</th>\n",
       "      <th>ver_win_rate_x</th>\n",
       "      <th>ver_win_ratio_per_bu</th>\n",
       "      <th>business_area</th>\n",
       "      <th>business_subarea</th>\n",
       "      <th>lead_owner</th>\n",
       "      <th>is_converted</th>\n",
       "    </tr>\n",
       "  </thead>\n",
       "  <tbody>\n",
       "    <tr>\n",
       "      <th>19051</th>\n",
       "      <td>0.75</td>\n",
       "      <td>/MEXICALI/Mexico</td>\n",
       "      <td>AS</td>\n",
       "      <td>NaN</td>\n",
       "      <td>43565</td>\n",
       "      <td>Etc.</td>\n",
       "      <td>Enterprise</td>\n",
       "      <td>NaN</td>\n",
       "      <td>NaN</td>\n",
       "      <td>NaN</td>\n",
       "      <td>...</td>\n",
       "      <td>LGEMS</td>\n",
       "      <td>NaN</td>\n",
       "      <td>0</td>\n",
       "      <td>0</td>\n",
       "      <td>NaN</td>\n",
       "      <td>NaN</td>\n",
       "      <td>NaN</td>\n",
       "      <td>NaN</td>\n",
       "      <td>42</td>\n",
       "      <td>False</td>\n",
       "    </tr>\n",
       "    <tr>\n",
       "      <th>19052</th>\n",
       "      <td>1.00</td>\n",
       "      <td>/MEXICALI/Mexico</td>\n",
       "      <td>AS</td>\n",
       "      <td>NaN</td>\n",
       "      <td>43565</td>\n",
       "      <td>Etc.</td>\n",
       "      <td>Enterprise</td>\n",
       "      <td>NaN</td>\n",
       "      <td>NaN</td>\n",
       "      <td>NaN</td>\n",
       "      <td>...</td>\n",
       "      <td>LGEMS</td>\n",
       "      <td>more than a year</td>\n",
       "      <td>0</td>\n",
       "      <td>0</td>\n",
       "      <td>NaN</td>\n",
       "      <td>NaN</td>\n",
       "      <td>NaN</td>\n",
       "      <td>NaN</td>\n",
       "      <td>42</td>\n",
       "      <td>False</td>\n",
       "    </tr>\n",
       "    <tr>\n",
       "      <th>29343</th>\n",
       "      <td>0.75</td>\n",
       "      <td>Carrera 29 # 45-45 piso 15 8902130749  /Bucara...</td>\n",
       "      <td>AS</td>\n",
       "      <td>0.003937</td>\n",
       "      <td>3134</td>\n",
       "      <td>Etc.</td>\n",
       "      <td>SMB</td>\n",
       "      <td>0.0</td>\n",
       "      <td>NaN</td>\n",
       "      <td>NaN</td>\n",
       "      <td>...</td>\n",
       "      <td>LGECB</td>\n",
       "      <td>NaN</td>\n",
       "      <td>0</td>\n",
       "      <td>0</td>\n",
       "      <td>0.003079</td>\n",
       "      <td>0.026846</td>\n",
       "      <td>corporate / office</td>\n",
       "      <td>NaN</td>\n",
       "      <td>648</td>\n",
       "      <td>False</td>\n",
       "    </tr>\n",
       "    <tr>\n",
       "      <th>36453</th>\n",
       "      <td>0.75</td>\n",
       "      <td>/Bogota/Colombia</td>\n",
       "      <td>AS</td>\n",
       "      <td>NaN</td>\n",
       "      <td>43366</td>\n",
       "      <td>Etc.</td>\n",
       "      <td>SMB</td>\n",
       "      <td>NaN</td>\n",
       "      <td>NaN</td>\n",
       "      <td>NaN</td>\n",
       "      <td>...</td>\n",
       "      <td>LGECB</td>\n",
       "      <td>NaN</td>\n",
       "      <td>0</td>\n",
       "      <td>0</td>\n",
       "      <td>NaN</td>\n",
       "      <td>NaN</td>\n",
       "      <td>NaN</td>\n",
       "      <td>NaN</td>\n",
       "      <td>39</td>\n",
       "      <td>False</td>\n",
       "    </tr>\n",
       "    <tr>\n",
       "      <th>45088</th>\n",
       "      <td>1.00</td>\n",
       "      <td>via G. Pascoli 39  /Milano/Italy</td>\n",
       "      <td>AS</td>\n",
       "      <td>NaN</td>\n",
       "      <td>16210</td>\n",
       "      <td>Etc.</td>\n",
       "      <td>Enterprise</td>\n",
       "      <td>NaN</td>\n",
       "      <td>NaN</td>\n",
       "      <td>NaN</td>\n",
       "      <td>...</td>\n",
       "      <td>LGEIS</td>\n",
       "      <td>3 months ~ 6 months</td>\n",
       "      <td>0</td>\n",
       "      <td>0</td>\n",
       "      <td>NaN</td>\n",
       "      <td>NaN</td>\n",
       "      <td>NaN</td>\n",
       "      <td>NaN</td>\n",
       "      <td>341</td>\n",
       "      <td>False</td>\n",
       "    </tr>\n",
       "    <tr>\n",
       "      <th>55208</th>\n",
       "      <td>1.00</td>\n",
       "      <td>/cali/Colombia</td>\n",
       "      <td>AS</td>\n",
       "      <td>0.003788</td>\n",
       "      <td>1589</td>\n",
       "      <td>Etc.</td>\n",
       "      <td>Enterprise</td>\n",
       "      <td>0.0</td>\n",
       "      <td>NaN</td>\n",
       "      <td>NaN</td>\n",
       "      <td>...</td>\n",
       "      <td>LGECB</td>\n",
       "      <td>3 months ~ 6 months</td>\n",
       "      <td>0</td>\n",
       "      <td>0</td>\n",
       "      <td>0.000298</td>\n",
       "      <td>0.020121</td>\n",
       "      <td>residential (home)</td>\n",
       "      <td>NaN</td>\n",
       "      <td>101</td>\n",
       "      <td>False</td>\n",
       "    </tr>\n",
       "  </tbody>\n",
       "</table>\n",
       "<p>6 rows × 29 columns</p>\n",
       "</div>"
      ],
      "text/plain": [
       "       bant_submit                                   customer_country  \\\n",
       "19051         0.75                                   /MEXICALI/Mexico   \n",
       "19052         1.00                                   /MEXICALI/Mexico   \n",
       "29343         0.75  Carrera 29 # 45-45 piso 15 8902130749  /Bucara...   \n",
       "36453         0.75                                   /Bogota/Colombia   \n",
       "45088         1.00                   via G. Pascoli 39  /Milano/Italy   \n",
       "55208         1.00                                     /cali/Colombia   \n",
       "\n",
       "      business_unit  com_reg_ver_win_rate  customer_idx customer_type  \\\n",
       "19051            AS                   NaN         43565          Etc.   \n",
       "19052            AS                   NaN         43565          Etc.   \n",
       "29343            AS              0.003937          3134          Etc.   \n",
       "36453            AS                   NaN         43366          Etc.   \n",
       "45088            AS                   NaN         16210          Etc.   \n",
       "55208            AS              0.003788          1589          Etc.   \n",
       "\n",
       "       enterprise  historical_existing_cnt  id_strategic_ver  \\\n",
       "19051  Enterprise                      NaN               NaN   \n",
       "19052  Enterprise                      NaN               NaN   \n",
       "29343         SMB                      0.0               NaN   \n",
       "36453         SMB                      NaN               NaN   \n",
       "45088  Enterprise                      NaN               NaN   \n",
       "55208  Enterprise                      0.0               NaN   \n",
       "\n",
       "       it_strategic_ver  ...  response_corporate    expected_timeline  \\\n",
       "19051               NaN  ...               LGEMS                  NaN   \n",
       "19052               NaN  ...               LGEMS     more than a year   \n",
       "29343               NaN  ...               LGECB                  NaN   \n",
       "36453               NaN  ...               LGECB                  NaN   \n",
       "45088               NaN  ...               LGEIS  3 months ~ 6 months   \n",
       "55208               NaN  ...               LGECB  3 months ~ 6 months   \n",
       "\n",
       "       ver_cus ver_pro ver_win_rate_x ver_win_ratio_per_bu  \\\n",
       "19051        0       0            NaN                  NaN   \n",
       "19052        0       0            NaN                  NaN   \n",
       "29343        0       0       0.003079             0.026846   \n",
       "36453        0       0            NaN                  NaN   \n",
       "45088        0       0            NaN                  NaN   \n",
       "55208        0       0       0.000298             0.020121   \n",
       "\n",
       "            business_area business_subarea lead_owner is_converted  \n",
       "19051                 NaN              NaN         42        False  \n",
       "19052                 NaN              NaN         42        False  \n",
       "29343  corporate / office              NaN        648        False  \n",
       "36453                 NaN              NaN         39        False  \n",
       "45088                 NaN              NaN        341        False  \n",
       "55208  residential (home)              NaN        101        False  \n",
       "\n",
       "[6 rows x 29 columns]"
      ]
     },
     "execution_count": 28,
     "metadata": {},
     "output_type": "execute_result"
    }
   ],
   "source": [
    "df_train[(df_train['ver_cus'] == 0) & (df_train['customer_type'] == 'Etc.')]"
   ]
  },
  {
   "cell_type": "code",
   "execution_count": 45,
   "id": "e43830ee",
   "metadata": {
    "scrolled": true
   },
   "outputs": [
    {
     "data": {
      "text/html": [
       "<div>\n",
       "<style scoped>\n",
       "    .dataframe tbody tr th:only-of-type {\n",
       "        vertical-align: middle;\n",
       "    }\n",
       "\n",
       "    .dataframe tbody tr th {\n",
       "        vertical-align: top;\n",
       "    }\n",
       "\n",
       "    .dataframe thead th {\n",
       "        text-align: right;\n",
       "    }\n",
       "</style>\n",
       "<table border=\"1\" class=\"dataframe\">\n",
       "  <thead>\n",
       "    <tr style=\"text-align: right;\">\n",
       "      <th></th>\n",
       "      <th>bant_submit</th>\n",
       "      <th>customer_country</th>\n",
       "      <th>business_unit</th>\n",
       "      <th>com_reg_ver_win_rate</th>\n",
       "      <th>customer_idx</th>\n",
       "      <th>customer_type</th>\n",
       "      <th>enterprise</th>\n",
       "      <th>historical_existing_cnt</th>\n",
       "      <th>id_strategic_ver</th>\n",
       "      <th>it_strategic_ver</th>\n",
       "      <th>...</th>\n",
       "      <th>response_corporate</th>\n",
       "      <th>expected_timeline</th>\n",
       "      <th>ver_cus</th>\n",
       "      <th>ver_pro</th>\n",
       "      <th>ver_win_rate_x</th>\n",
       "      <th>ver_win_ratio_per_bu</th>\n",
       "      <th>business_area</th>\n",
       "      <th>business_subarea</th>\n",
       "      <th>lead_owner</th>\n",
       "      <th>is_converted</th>\n",
       "    </tr>\n",
       "  </thead>\n",
       "  <tbody>\n",
       "    <tr>\n",
       "      <th>318</th>\n",
       "      <td>1.00</td>\n",
       "      <td>/Rio Grande do Sul/Brazil</td>\n",
       "      <td>AS</td>\n",
       "      <td>0.003937</td>\n",
       "      <td>27309</td>\n",
       "      <td>End Customer</td>\n",
       "      <td>SMB</td>\n",
       "      <td>NaN</td>\n",
       "      <td>NaN</td>\n",
       "      <td>NaN</td>\n",
       "      <td>...</td>\n",
       "      <td>LGESP</td>\n",
       "      <td>3 months ~ 6 months</td>\n",
       "      <td>1</td>\n",
       "      <td>0</td>\n",
       "      <td>0.003079</td>\n",
       "      <td>0.026846</td>\n",
       "      <td>corporate / office</td>\n",
       "      <td>IT/Software</td>\n",
       "      <td>97</td>\n",
       "      <td>False</td>\n",
       "    </tr>\n",
       "    <tr>\n",
       "      <th>321</th>\n",
       "      <td>1.00</td>\n",
       "      <td>/East London/South Africa</td>\n",
       "      <td>AS</td>\n",
       "      <td>0.040816</td>\n",
       "      <td>30958</td>\n",
       "      <td>End Customer</td>\n",
       "      <td>SMB</td>\n",
       "      <td>NaN</td>\n",
       "      <td>NaN</td>\n",
       "      <td>NaN</td>\n",
       "      <td>...</td>\n",
       "      <td>LGESA</td>\n",
       "      <td>more than a year</td>\n",
       "      <td>1</td>\n",
       "      <td>0</td>\n",
       "      <td>0.003079</td>\n",
       "      <td>0.026846</td>\n",
       "      <td>corporate / office</td>\n",
       "      <td>IT/Software</td>\n",
       "      <td>26</td>\n",
       "      <td>False</td>\n",
       "    </tr>\n",
       "    <tr>\n",
       "      <th>322</th>\n",
       "      <td>1.00</td>\n",
       "      <td>/East London/South Africa</td>\n",
       "      <td>AS</td>\n",
       "      <td>0.040816</td>\n",
       "      <td>30958</td>\n",
       "      <td>End Customer</td>\n",
       "      <td>SMB</td>\n",
       "      <td>NaN</td>\n",
       "      <td>NaN</td>\n",
       "      <td>NaN</td>\n",
       "      <td>...</td>\n",
       "      <td>LGESA</td>\n",
       "      <td>more than a year</td>\n",
       "      <td>1</td>\n",
       "      <td>0</td>\n",
       "      <td>0.003079</td>\n",
       "      <td>0.026846</td>\n",
       "      <td>corporate / office</td>\n",
       "      <td>IT/Software</td>\n",
       "      <td>26</td>\n",
       "      <td>False</td>\n",
       "    </tr>\n",
       "    <tr>\n",
       "      <th>323</th>\n",
       "      <td>1.00</td>\n",
       "      <td>/Baghdad/Iraq</td>\n",
       "      <td>AS</td>\n",
       "      <td>0.040816</td>\n",
       "      <td>41452</td>\n",
       "      <td>End Customer</td>\n",
       "      <td>SMB</td>\n",
       "      <td>NaN</td>\n",
       "      <td>NaN</td>\n",
       "      <td>NaN</td>\n",
       "      <td>...</td>\n",
       "      <td>LGELF</td>\n",
       "      <td>less than 3 months</td>\n",
       "      <td>1</td>\n",
       "      <td>0</td>\n",
       "      <td>0.003079</td>\n",
       "      <td>0.026846</td>\n",
       "      <td>corporate / office</td>\n",
       "      <td>Construction</td>\n",
       "      <td>117</td>\n",
       "      <td>False</td>\n",
       "    </tr>\n",
       "    <tr>\n",
       "      <th>327</th>\n",
       "      <td>1.00</td>\n",
       "      <td>/NCR, Quezon City/Philippines</td>\n",
       "      <td>AS</td>\n",
       "      <td>0.066667</td>\n",
       "      <td>6634</td>\n",
       "      <td>End Customer</td>\n",
       "      <td>Enterprise</td>\n",
       "      <td>NaN</td>\n",
       "      <td>NaN</td>\n",
       "      <td>NaN</td>\n",
       "      <td>...</td>\n",
       "      <td>LGEPH</td>\n",
       "      <td>less than 3 months</td>\n",
       "      <td>1</td>\n",
       "      <td>0</td>\n",
       "      <td>0.003079</td>\n",
       "      <td>0.026846</td>\n",
       "      <td>corporate / office</td>\n",
       "      <td>NaN</td>\n",
       "      <td>119</td>\n",
       "      <td>False</td>\n",
       "    </tr>\n",
       "    <tr>\n",
       "      <th>...</th>\n",
       "      <td>...</td>\n",
       "      <td>...</td>\n",
       "      <td>...</td>\n",
       "      <td>...</td>\n",
       "      <td>...</td>\n",
       "      <td>...</td>\n",
       "      <td>...</td>\n",
       "      <td>...</td>\n",
       "      <td>...</td>\n",
       "      <td>...</td>\n",
       "      <td>...</td>\n",
       "      <td>...</td>\n",
       "      <td>...</td>\n",
       "      <td>...</td>\n",
       "      <td>...</td>\n",
       "      <td>...</td>\n",
       "      <td>...</td>\n",
       "      <td>...</td>\n",
       "      <td>...</td>\n",
       "      <td>...</td>\n",
       "      <td>...</td>\n",
       "    </tr>\n",
       "    <tr>\n",
       "      <th>58168</th>\n",
       "      <td>0.25</td>\n",
       "      <td>7665 Corporate Center Dr.  Cruise/Miami/United...</td>\n",
       "      <td>ID</td>\n",
       "      <td>NaN</td>\n",
       "      <td>30454</td>\n",
       "      <td>End Customer</td>\n",
       "      <td>SMB</td>\n",
       "      <td>NaN</td>\n",
       "      <td>1.0</td>\n",
       "      <td>NaN</td>\n",
       "      <td>...</td>\n",
       "      <td>LGEUS</td>\n",
       "      <td>NaN</td>\n",
       "      <td>1</td>\n",
       "      <td>0</td>\n",
       "      <td>0.000717</td>\n",
       "      <td>0.071345</td>\n",
       "      <td>hotel &amp; accommodation</td>\n",
       "      <td>Cruise</td>\n",
       "      <td>570</td>\n",
       "      <td>False</td>\n",
       "    </tr>\n",
       "    <tr>\n",
       "      <th>58169</th>\n",
       "      <td>0.25</td>\n",
       "      <td>7665 Corporate Center Dr.  Cruise/Miami/United...</td>\n",
       "      <td>ID</td>\n",
       "      <td>NaN</td>\n",
       "      <td>30455</td>\n",
       "      <td>End Customer</td>\n",
       "      <td>SMB</td>\n",
       "      <td>NaN</td>\n",
       "      <td>1.0</td>\n",
       "      <td>NaN</td>\n",
       "      <td>...</td>\n",
       "      <td>LGEUS</td>\n",
       "      <td>NaN</td>\n",
       "      <td>1</td>\n",
       "      <td>0</td>\n",
       "      <td>0.000717</td>\n",
       "      <td>0.071345</td>\n",
       "      <td>hotel &amp; accommodation</td>\n",
       "      <td>Cruise</td>\n",
       "      <td>570</td>\n",
       "      <td>True</td>\n",
       "    </tr>\n",
       "    <tr>\n",
       "      <th>58170</th>\n",
       "      <td>0.25</td>\n",
       "      <td>903 44th Rd  Cruise/Long Island City/United St...</td>\n",
       "      <td>ID</td>\n",
       "      <td>NaN</td>\n",
       "      <td>28954</td>\n",
       "      <td>End Customer</td>\n",
       "      <td>SMB</td>\n",
       "      <td>NaN</td>\n",
       "      <td>1.0</td>\n",
       "      <td>NaN</td>\n",
       "      <td>...</td>\n",
       "      <td>LGEUS</td>\n",
       "      <td>NaN</td>\n",
       "      <td>1</td>\n",
       "      <td>0</td>\n",
       "      <td>0.000717</td>\n",
       "      <td>0.071345</td>\n",
       "      <td>hotel &amp; accommodation</td>\n",
       "      <td>Cruise</td>\n",
       "      <td>570</td>\n",
       "      <td>True</td>\n",
       "    </tr>\n",
       "    <tr>\n",
       "      <th>58171</th>\n",
       "      <td>0.25</td>\n",
       "      <td>3655 NW 87th Ave  Commercial Display/Miami/Uni...</td>\n",
       "      <td>ID</td>\n",
       "      <td>NaN</td>\n",
       "      <td>7741</td>\n",
       "      <td>End Customer</td>\n",
       "      <td>SMB</td>\n",
       "      <td>0.0</td>\n",
       "      <td>1.0</td>\n",
       "      <td>NaN</td>\n",
       "      <td>...</td>\n",
       "      <td>LGEUS</td>\n",
       "      <td>NaN</td>\n",
       "      <td>1</td>\n",
       "      <td>0</td>\n",
       "      <td>0.000717</td>\n",
       "      <td>0.071345</td>\n",
       "      <td>hotel &amp; accommodation</td>\n",
       "      <td>Cruise</td>\n",
       "      <td>570</td>\n",
       "      <td>True</td>\n",
       "    </tr>\n",
       "    <tr>\n",
       "      <th>58172</th>\n",
       "      <td>0.25</td>\n",
       "      <td>3655 NW 87th Ave  Commercial Display/Miami/Uni...</td>\n",
       "      <td>ID</td>\n",
       "      <td>NaN</td>\n",
       "      <td>7741</td>\n",
       "      <td>End Customer</td>\n",
       "      <td>SMB</td>\n",
       "      <td>0.0</td>\n",
       "      <td>1.0</td>\n",
       "      <td>NaN</td>\n",
       "      <td>...</td>\n",
       "      <td>LGEUS</td>\n",
       "      <td>NaN</td>\n",
       "      <td>1</td>\n",
       "      <td>0</td>\n",
       "      <td>0.000717</td>\n",
       "      <td>0.071345</td>\n",
       "      <td>hotel &amp; accommodation</td>\n",
       "      <td>Cruise</td>\n",
       "      <td>570</td>\n",
       "      <td>False</td>\n",
       "    </tr>\n",
       "  </tbody>\n",
       "</table>\n",
       "<p>798 rows × 29 columns</p>\n",
       "</div>"
      ],
      "text/plain": [
       "       bant_submit                                   customer_country  \\\n",
       "318           1.00                          /Rio Grande do Sul/Brazil   \n",
       "321           1.00                          /East London/South Africa   \n",
       "322           1.00                          /East London/South Africa   \n",
       "323           1.00                                      /Baghdad/Iraq   \n",
       "327           1.00                      /NCR, Quezon City/Philippines   \n",
       "...            ...                                                ...   \n",
       "58168         0.25  7665 Corporate Center Dr.  Cruise/Miami/United...   \n",
       "58169         0.25  7665 Corporate Center Dr.  Cruise/Miami/United...   \n",
       "58170         0.25  903 44th Rd  Cruise/Long Island City/United St...   \n",
       "58171         0.25  3655 NW 87th Ave  Commercial Display/Miami/Uni...   \n",
       "58172         0.25  3655 NW 87th Ave  Commercial Display/Miami/Uni...   \n",
       "\n",
       "      business_unit  com_reg_ver_win_rate  customer_idx customer_type  \\\n",
       "318              AS              0.003937         27309  End Customer   \n",
       "321              AS              0.040816         30958  End Customer   \n",
       "322              AS              0.040816         30958  End Customer   \n",
       "323              AS              0.040816         41452  End Customer   \n",
       "327              AS              0.066667          6634  End Customer   \n",
       "...             ...                   ...           ...           ...   \n",
       "58168            ID                   NaN         30454  End Customer   \n",
       "58169            ID                   NaN         30455  End Customer   \n",
       "58170            ID                   NaN         28954  End Customer   \n",
       "58171            ID                   NaN          7741  End Customer   \n",
       "58172            ID                   NaN          7741  End Customer   \n",
       "\n",
       "       enterprise  historical_existing_cnt  id_strategic_ver  \\\n",
       "318           SMB                      NaN               NaN   \n",
       "321           SMB                      NaN               NaN   \n",
       "322           SMB                      NaN               NaN   \n",
       "323           SMB                      NaN               NaN   \n",
       "327    Enterprise                      NaN               NaN   \n",
       "...           ...                      ...               ...   \n",
       "58168         SMB                      NaN               1.0   \n",
       "58169         SMB                      NaN               1.0   \n",
       "58170         SMB                      NaN               1.0   \n",
       "58171         SMB                      0.0               1.0   \n",
       "58172         SMB                      0.0               1.0   \n",
       "\n",
       "       it_strategic_ver  ...  response_corporate    expected_timeline  \\\n",
       "318                 NaN  ...               LGESP  3 months ~ 6 months   \n",
       "321                 NaN  ...               LGESA     more than a year   \n",
       "322                 NaN  ...               LGESA     more than a year   \n",
       "323                 NaN  ...               LGELF   less than 3 months   \n",
       "327                 NaN  ...               LGEPH   less than 3 months   \n",
       "...                 ...  ...                 ...                  ...   \n",
       "58168               NaN  ...               LGEUS                  NaN   \n",
       "58169               NaN  ...               LGEUS                  NaN   \n",
       "58170               NaN  ...               LGEUS                  NaN   \n",
       "58171               NaN  ...               LGEUS                  NaN   \n",
       "58172               NaN  ...               LGEUS                  NaN   \n",
       "\n",
       "       ver_cus ver_pro ver_win_rate_x ver_win_ratio_per_bu  \\\n",
       "318          1       0       0.003079             0.026846   \n",
       "321          1       0       0.003079             0.026846   \n",
       "322          1       0       0.003079             0.026846   \n",
       "323          1       0       0.003079             0.026846   \n",
       "327          1       0       0.003079             0.026846   \n",
       "...        ...     ...            ...                  ...   \n",
       "58168        1       0       0.000717             0.071345   \n",
       "58169        1       0       0.000717             0.071345   \n",
       "58170        1       0       0.000717             0.071345   \n",
       "58171        1       0       0.000717             0.071345   \n",
       "58172        1       0       0.000717             0.071345   \n",
       "\n",
       "               business_area business_subarea lead_owner is_converted  \n",
       "318       corporate / office      IT/Software         97        False  \n",
       "321       corporate / office      IT/Software         26        False  \n",
       "322       corporate / office      IT/Software         26        False  \n",
       "323       corporate / office     Construction        117        False  \n",
       "327       corporate / office              NaN        119        False  \n",
       "...                      ...              ...        ...          ...  \n",
       "58168  hotel & accommodation           Cruise        570        False  \n",
       "58169  hotel & accommodation           Cruise        570         True  \n",
       "58170  hotel & accommodation           Cruise        570         True  \n",
       "58171  hotel & accommodation           Cruise        570         True  \n",
       "58172  hotel & accommodation           Cruise        570        False  \n",
       "\n",
       "[798 rows x 29 columns]"
      ]
     },
     "execution_count": 45,
     "metadata": {},
     "output_type": "execute_result"
    }
   ],
   "source": [
    "df_train[(df_train['ver_cus'] == 1) & (df_train['customer_type'] == 'End Customer')]"
   ]
  },
  {
   "cell_type": "code",
   "execution_count": 46,
   "id": "6b900dd4",
   "metadata": {},
   "outputs": [
    {
     "data": {
      "text/plain": [
       "business_area\n",
       "corporate / office       298\n",
       "retail                   255\n",
       "education                135\n",
       "hotel & accommodation    110\n",
       "Name: count, dtype: int64"
      ]
     },
     "execution_count": 46,
     "metadata": {},
     "output_type": "execute_result"
    }
   ],
   "source": [
    "df_train[(df_train['ver_cus'] == 1) & (df_train['customer_type'] == 'End Customer')]['business_area'].value_counts(dropna = False)"
   ]
  },
  {
   "cell_type": "code",
   "execution_count": 47,
   "id": "9ad3f614",
   "metadata": {},
   "outputs": [
    {
     "data": {
      "text/plain": [
       "business_area\n",
       "NaN                               1972\n",
       "hospital & health care             763\n",
       "special purpose                    148\n",
       "residential (home)                  88\n",
       "factory                             84\n",
       "government department               47\n",
       "public facility                     40\n",
       "power plant / renewable energy      29\n",
       "transportation                      27\n",
       "Name: count, dtype: int64"
      ]
     },
     "execution_count": 47,
     "metadata": {},
     "output_type": "execute_result"
    }
   ],
   "source": [
    "df_train[(df_train['ver_cus'] == 0) & (df_train['customer_type'] == 'End Customer')]['business_area'].value_counts(dropna = False)"
   ]
  },
  {
   "cell_type": "code",
   "execution_count": 48,
   "id": "a3161534",
   "metadata": {},
   "outputs": [
    {
     "data": {
      "text/plain": [
       "business_area\n",
       "corporate / office       815\n",
       "retail                   509\n",
       "education                334\n",
       "hotel & accommodation      7\n",
       "Name: count, dtype: int64"
      ]
     },
     "execution_count": 48,
     "metadata": {},
     "output_type": "execute_result"
    }
   ],
   "source": [
    "df_train[(df_train['ver_cus'] == 1) & (df_train['customer_type'] == 'End-Customer')]['business_area'].value_counts(dropna = False)"
   ]
  },
  {
   "cell_type": "code",
   "execution_count": 49,
   "id": "664d8f76",
   "metadata": {},
   "outputs": [
    {
     "data": {
      "text/plain": [
       "business_area\n",
       "NaN                               3657\n",
       "special purpose                    329\n",
       "residential (home)                 263\n",
       "hospital & health care             231\n",
       "factory                            217\n",
       "government department              110\n",
       "public facility                     89\n",
       "transportation                      47\n",
       "power plant / renewable energy      39\n",
       "Name: count, dtype: int64"
      ]
     },
     "execution_count": 49,
     "metadata": {},
     "output_type": "execute_result"
    }
   ],
   "source": [
    "df_train[(df_train['ver_cus'] == 0) & (df_train['customer_type'] == 'End-Customer')]['business_area'].value_counts(dropna = False)"
   ]
  },
  {
   "cell_type": "code",
   "execution_count": 51,
   "id": "5c069d80",
   "metadata": {},
   "outputs": [
    {
     "data": {
      "text/plain": [
       "business_area\n",
       "education    3\n",
       "retail       1\n",
       "Name: count, dtype: int64"
      ]
     },
     "execution_count": 51,
     "metadata": {},
     "output_type": "execute_result"
    }
   ],
   "source": [
    "df_train[(df_train['ver_cus'] == 1) & (df_train['customer_type'] == 'End-user')]['business_area'].value_counts(dropna = False)"
   ]
  },
  {
   "cell_type": "code",
   "execution_count": 44,
   "id": "80ac6d22",
   "metadata": {
    "scrolled": true
   },
   "outputs": [
    {
     "data": {
      "text/plain": [
       "business_area\n",
       "corporate / office       1113\n",
       "retail                    765\n",
       "education                 472\n",
       "hotel & accommodation     117\n",
       "Name: count, dtype: int64"
      ]
     },
     "execution_count": 44,
     "metadata": {},
     "output_type": "execute_result"
    }
   ],
   "source": [
    "df_train[df_train['ver_cus'] == 1]['business_area'].value_counts(dropna = False)"
   ]
  },
  {
   "cell_type": "markdown",
   "id": "75c3842a",
   "metadata": {},
   "source": [
    "df_train['ver_cus']의 특정 Vertical Level 1(사업영역)을 고객의 사업영역('business_area')에서 유추한 결과, 4가지 영역에 해당됨   \n",
    "- corporate / office\n",
    "- retail -> End-customer\n",
    "- education -> End-user\n",
    "- hotel & accommodation\n",
    "\n",
    "\n",
    "* End-customer은 직접 구매한 사람\n",
    "* End-user는 실제로 사용하는 사람"
   ]
  },
  {
   "cell_type": "code",
   "execution_count": null,
   "id": "5f0374b2",
   "metadata": {},
   "outputs": [],
   "source": [
    "## End-Customer 과 End Customer 통합하기 \n"
   ]
  },
  {
   "cell_type": "markdown",
   "id": "a501cc41",
   "metadata": {},
   "source": [
    "### 데이터 결측치 처리"
   ]
  },
  {
   "cell_type": "markdown",
   "id": "8a220aad",
   "metadata": {},
   "source": [
    "1. df_train['id_strategic_ver']의 결측치 채우기  -> null값 다 0으로 처리하기"
   ]
  },
  {
   "cell_type": "code",
   "execution_count": 34,
   "id": "60b1daec",
   "metadata": {},
   "outputs": [
    {
     "data": {
      "text/plain": [
       "business_unit\n",
       "ID          25563\n",
       "AS          24774\n",
       "IT           8664\n",
       "Solution      296\n",
       "CM              2\n",
       "Name: count, dtype: int64"
      ]
     },
     "execution_count": 34,
     "metadata": {},
     "output_type": "execute_result"
    }
   ],
   "source": [
    "df_train['business_unit'].value_counts(dropna = False)"
   ]
  },
  {
   "cell_type": "code",
   "execution_count": 35,
   "id": "48e69d5d",
   "metadata": {},
   "outputs": [
    {
     "data": {
      "text/plain": [
       "id_strategic_ver\n",
       "NaN    55855\n",
       "1.0     3444\n",
       "Name: count, dtype: int64"
      ]
     },
     "execution_count": 35,
     "metadata": {},
     "output_type": "execute_result"
    }
   ],
   "source": [
    "df_train['id_strategic_ver'].value_counts(dropna = False)"
   ]
  },
  {
   "cell_type": "code",
   "execution_count": 36,
   "id": "db920932",
   "metadata": {},
   "outputs": [
    {
     "data": {
      "text/plain": [
       "array(['ID'], dtype=object)"
      ]
     },
     "execution_count": 36,
     "metadata": {},
     "output_type": "execute_result"
    }
   ],
   "source": [
    "df_train[df_train['id_strategic_ver'] == 1.0]['business_unit'].unique()"
   ]
  },
  {
   "cell_type": "code",
   "execution_count": 43,
   "id": "42112754",
   "metadata": {},
   "outputs": [
    {
     "data": {
      "text/plain": [
       "business_area\n",
       "corporate / office       2460\n",
       "hotel & accommodation     984\n",
       "Name: count, dtype: int64"
      ]
     },
     "execution_count": 43,
     "metadata": {},
     "output_type": "execute_result"
    }
   ],
   "source": [
    "df_train[df_train['id_strategic_ver'] == 1.0]['business_area'].value_counts(dropna = False)"
   ]
  },
  {
   "cell_type": "code",
   "execution_count": 73,
   "id": "257bb841",
   "metadata": {},
   "outputs": [
    {
     "data": {
      "text/plain": [
       "business_unit\n",
       "ID    3444\n",
       "Name: count, dtype: int64"
      ]
     },
     "execution_count": 73,
     "metadata": {},
     "output_type": "execute_result"
    }
   ],
   "source": [
    "df_train[df_train['id_strategic_ver'] == 1.0]['business_unit'].value_counts(dropna = False)"
   ]
  },
  {
   "cell_type": "code",
   "execution_count": 74,
   "id": "2ab85664",
   "metadata": {},
   "outputs": [
    {
     "data": {
      "text/plain": [
       "business_unit\n",
       "AS          24774\n",
       "ID          22119\n",
       "IT           8664\n",
       "Solution      296\n",
       "CM              2\n",
       "Name: count, dtype: int64"
      ]
     },
     "execution_count": 74,
     "metadata": {},
     "output_type": "execute_result"
    }
   ],
   "source": [
    "df_train[df_train['id_strategic_ver'] != 1.0]['business_unit'].value_counts(dropna = False)"
   ]
  },
  {
   "cell_type": "code",
   "execution_count": 76,
   "id": "be141897",
   "metadata": {},
   "outputs": [
    {
     "data": {
      "text/plain": [
       "business_area\n",
       "NaN                               40882\n",
       "retail                             3011\n",
       "special purpose                    1929\n",
       "residential (home)                 1818\n",
       "education                          1727\n",
       "corporate / office                 1637\n",
       "hospital & health care             1199\n",
       "factory                            1035\n",
       "hotel & accommodation              1029\n",
       "government department               650\n",
       "public facility                     519\n",
       "transportation                      306\n",
       "power plant / renewable energy      113\n",
       "Name: count, dtype: int64"
      ]
     },
     "execution_count": 76,
     "metadata": {},
     "output_type": "execute_result"
    }
   ],
   "source": [
    "df_train[df_train['id_strategic_ver'] != 1.0]['business_area'].value_counts(dropna = False)\n",
    "# 여기서 왜 cor과 hotel이 나와 했지만.... 여기서 나온 이유는 business_unit이 ID가 아니라서!! 나온거임 "
   ]
  },
  {
   "cell_type": "code",
   "execution_count": 75,
   "id": "f8a01264",
   "metadata": {},
   "outputs": [
    {
     "data": {
      "text/plain": [
       "business_area\n",
       "NaN                               15636\n",
       "retail                             2028\n",
       "education                          1356\n",
       "special purpose                    1075\n",
       "factory                             540\n",
       "government department               421\n",
       "residential (home)                  385\n",
       "public facility                     271\n",
       "transportation                      216\n",
       "hospital & health care              148\n",
       "power plant / renewable energy       43\n",
       "Name: count, dtype: int64"
      ]
     },
     "execution_count": 75,
     "metadata": {},
     "output_type": "execute_result"
    }
   ],
   "source": [
    "df_train[(df_train['id_strategic_ver'] != 1.0) & (df_train['business_unit'] == 'ID')]['business_area'].value_counts(dropna = False)"
   ]
  },
  {
   "cell_type": "markdown",
   "id": "69271eae",
   "metadata": {},
   "source": [
    "df_train['id_strategic_ver']의 특정 사업 영역(Vertical Level1)은 고객의 사업 영역을 통해 유추한 결과,   \n",
    "- corporate / office\n",
    "- hotel & accommodation"
   ]
  },
  {
   "cell_type": "code",
   "execution_count": 78,
   "id": "d3614ec2",
   "metadata": {},
   "outputs": [
    {
     "data": {
      "text/plain": [
       "55855"
      ]
     },
     "execution_count": 78,
     "metadata": {},
     "output_type": "execute_result"
    }
   ],
   "source": [
    "df_train['id_strategic_ver'].isna().sum()\n",
    "# df_train['id_strategic_ver'] 결측치를 다 0으로 채우기 \n",
    "# df_test[id_strategic_ver]의 결측치도 다 0으로 채우기\n",
    "\n",
    "\n",
    "# 코드 작성! "
   ]
  },
  {
   "cell_type": "markdown",
   "id": "ae12f343",
   "metadata": {},
   "source": [
    "2. df_train['it_strategic_ver']의 결측치 채우기 -> null값 0으로 대체"
   ]
  },
  {
   "cell_type": "code",
   "execution_count": 72,
   "id": "b15f5b56",
   "metadata": {},
   "outputs": [
    {
     "data": {
      "text/plain": [
       "business_unit\n",
       "ID          25563\n",
       "AS          24774\n",
       "IT           8664\n",
       "Solution      296\n",
       "CM              2\n",
       "Name: count, dtype: int64"
      ]
     },
     "execution_count": 72,
     "metadata": {},
     "output_type": "execute_result"
    }
   ],
   "source": [
    "df_train['business_unit'].value_counts(dropna = False)"
   ]
  },
  {
   "cell_type": "code",
   "execution_count": 79,
   "id": "39a2f7ff",
   "metadata": {},
   "outputs": [
    {
     "data": {
      "text/plain": [
       "it_strategic_ver\n",
       "NaN    58178\n",
       "1.0     1121\n",
       "Name: count, dtype: int64"
      ]
     },
     "execution_count": 79,
     "metadata": {},
     "output_type": "execute_result"
    }
   ],
   "source": [
    "df_train['it_strategic_ver'].value_counts(dropna = False)"
   ]
  },
  {
   "cell_type": "code",
   "execution_count": 80,
   "id": "977b1c5a",
   "metadata": {},
   "outputs": [
    {
     "data": {
      "text/plain": [
       "array(['IT'], dtype=object)"
      ]
     },
     "execution_count": 80,
     "metadata": {},
     "output_type": "execute_result"
    }
   ],
   "source": [
    "df_train[df_train['it_strategic_ver'] == 1.0]['business_unit'].unique()"
   ]
  },
  {
   "cell_type": "code",
   "execution_count": 81,
   "id": "fe9a0303",
   "metadata": {},
   "outputs": [
    {
     "data": {
      "text/plain": [
       "business_area\n",
       "hotel & accommodation    791\n",
       "corporate / office       330\n",
       "Name: count, dtype: int64"
      ]
     },
     "execution_count": 81,
     "metadata": {},
     "output_type": "execute_result"
    }
   ],
   "source": [
    "df_train[df_train['it_strategic_ver'] == 1.0]['business_area'].value_counts(dropna = False)"
   ]
  },
  {
   "cell_type": "code",
   "execution_count": 82,
   "id": "0e6a791b",
   "metadata": {},
   "outputs": [
    {
     "data": {
      "text/plain": [
       "business_area\n",
       "NaN                               5972\n",
       "hospital & health care             895\n",
       "retail                             163\n",
       "education                          150\n",
       "special purpose                    108\n",
       "factory                             83\n",
       "government department               49\n",
       "residential (home)                  42\n",
       "public facility                     40\n",
       "transportation                      33\n",
       "power plant / renewable energy       8\n",
       "Name: count, dtype: int64"
      ]
     },
     "execution_count": 82,
     "metadata": {},
     "output_type": "execute_result"
    }
   ],
   "source": [
    "df_train[(df_train['it_strategic_ver'] != 1.0) & (df_train['business_unit'] == 'IT')]['business_area'].value_counts(dropna = False)"
   ]
  },
  {
   "cell_type": "markdown",
   "id": "0a657036",
   "metadata": {},
   "source": [
    "df_train['it_strategic_ver']의 특정 사업 영역(Vertical Level1)은 고객의 사업 영역을 통해 유추한 결과,   \n",
    "- corporate / office\n",
    "- hotel & accommodation"
   ]
  },
  {
   "cell_type": "code",
   "execution_count": 84,
   "id": "2b598042",
   "metadata": {},
   "outputs": [
    {
     "data": {
      "text/plain": [
       "58178"
      ]
     },
     "execution_count": 84,
     "metadata": {},
     "output_type": "execute_result"
    }
   ],
   "source": [
    "df_train['it_strategic_ver'].isna().sum()\n",
    "# df_train['it_strategic_ver'] 결측치를 다 0으로 채우기 \n",
    "# df_test[it_strategic_ver]의 결측치도 다 0으로 채우기\n",
    "\n",
    "\n",
    "# 코드 작성! "
   ]
  },
  {
   "cell_type": "code",
   "execution_count": 88,
   "id": "924bf47a",
   "metadata": {},
   "outputs": [
    {
     "data": {
      "text/plain": [
       "idit_strategic_ver\n",
       "NaN    54734\n",
       "1.0     4565\n",
       "Name: count, dtype: int64"
      ]
     },
     "execution_count": 88,
     "metadata": {},
     "output_type": "execute_result"
    }
   ],
   "source": [
    "df_train['idit_strategic_ver'].value_counts(dropna = False)"
   ]
  },
  {
   "cell_type": "markdown",
   "id": "57613a16",
   "metadata": {},
   "source": [
    "3. df_train['idit_strategic_ver']의 결측치 채우기 -> null값 0으로 대체"
   ]
  },
  {
   "cell_type": "code",
   "execution_count": 91,
   "id": "2d06b219",
   "metadata": {},
   "outputs": [
    {
     "data": {
      "text/plain": [
       "idit_strategic_ver\n",
       "1.0    4565\n",
       "Name: count, dtype: int64"
      ]
     },
     "execution_count": 91,
     "metadata": {},
     "output_type": "execute_result"
    }
   ],
   "source": [
    "df_train[(df_train['id_strategic_ver'] == 1.0) | (df_train['it_strategic_ver'] == 1.0)]['idit_strategic_ver'].value_counts(dropna = False)"
   ]
  },
  {
   "cell_type": "code",
   "execution_count": 92,
   "id": "b7f81297",
   "metadata": {},
   "outputs": [
    {
     "data": {
      "text/plain": [
       "54734"
      ]
     },
     "execution_count": 92,
     "metadata": {},
     "output_type": "execute_result"
    }
   ],
   "source": [
    "df_train['idit_strategic_ver'].isna().sum()\n",
    "# df_train['idit_strategic_ver'] 결측치를 다 0으로 채우기 \n",
    "# df_test[idit_strategic_ver]의 결측치도 다 0으로 채우기\n",
    "\n",
    "\n",
    "# 코드 작성!"
   ]
  },
  {
   "cell_type": "markdown",
   "id": "01203e73",
   "metadata": {},
   "source": [
    "4. customer_country 변수 처리 -> train과 test 모두에서 drop하기 "
   ]
  },
  {
   "cell_type": "code",
   "execution_count": 96,
   "id": "e0b6ae8d",
   "metadata": {},
   "outputs": [
    {
     "data": {
      "text/plain": [
       "982"
      ]
     },
     "execution_count": 96,
     "metadata": {},
     "output_type": "execute_result"
    }
   ],
   "source": [
    "df_train['customer_country'].isna().sum()"
   ]
  },
  {
   "cell_type": "code",
   "execution_count": 94,
   "id": "7b2f1a30",
   "metadata": {
    "scrolled": true
   },
   "outputs": [
    {
     "data": {
      "text/plain": [
       "customer_country\n",
       "//India                                   3037\n",
       "/São Paulo/Brazil                         1344\n",
       "NaN                                        982\n",
       "//United States                            962\n",
       "//United Kingdom                           805\n",
       "                                          ... \n",
       "/Hydrated/India                              1\n",
       "/Tirurangadi, Malappuram, Kerala/India       1\n",
       "/Canoinhas / SC/Brazil                       1\n",
       "/Tupã/SP/Brazil                              1\n",
       "/paris/France                                1\n",
       "Name: count, Length: 15400, dtype: int64"
      ]
     },
     "execution_count": 94,
     "metadata": {},
     "output_type": "execute_result"
    }
   ],
   "source": [
    "df_train['customer_country'].value_counts(dropna = False)"
   ]
  },
  {
   "cell_type": "code",
   "execution_count": 101,
   "id": "ec543f05",
   "metadata": {},
   "outputs": [
    {
     "data": {
      "text/plain": [
       "array(['/Kolkata /India', '/Bhubaneswar/India', '/Hyderabad/India', ...,\n",
       "       '/Rajkot, Gujarat, India/India',\n",
       "       '7700 Gateway Blvd  Commercial Display/Newark/India',\n",
       "       '/burla parit/India'], dtype=object)"
      ]
     },
     "execution_count": 101,
     "metadata": {},
     "output_type": "execute_result"
    }
   ],
   "source": [
    "df_train[df_train['response_corporate'] == 'LGEIL']['customer_country'].unique()"
   ]
  },
  {
   "cell_type": "code",
   "execution_count": 114,
   "id": "c5c1c9c8",
   "metadata": {
    "scrolled": false
   },
   "outputs": [
    {
     "data": {
      "text/plain": [
       "array(['/Bedford/United Kingdom', '//United Kingdom',\n",
       "       '/Kent/United Kingdom', '/Bangladesh/United Kingdom',\n",
       "       '/London/United Kingdom', '/Brighton/United Kingdom',\n",
       "       '/Greater Manchester/United Kingdom', '//Ireland',\n",
       "       '/Knutsford/United Kingdom', '/Nottinghamshire/United Kingdom',\n",
       "       '/Dublin/Ireland', '/County/State/United Kingdom',\n",
       "       '/united kingdom/United Kingdom', '/INDIA/United Kingdom',\n",
       "       '/Leicestershire/United Kingdom', '/United Kingdom/United Kingdom',\n",
       "       nan, '/Uk/United Kingdom', '/Leicesterhsire/United Kingdom',\n",
       "       '/Dublin 2/United Kingdom', '/Oxfordshire/United Kingdom',\n",
       "       '/Hampshire/United Kingdom', '/Essex/United Kingdom',\n",
       "       '/United Kingdom', '/Seoul/United Kingdom',\n",
       "       '/London /United Kingdom', '/england/United Kingdom',\n",
       "       '/West Yorkshire/United Kingdom', '/dublin/Ireland',\n",
       "       '/UK/United Kingdom', '/England/United Kingdom',\n",
       "       '/london/United Kingdom', '/Surrey/United Kingdom',\n",
       "       '/Northwich/United Kingdom', '/United Kingdom /United Kingdom',\n",
       "       '/East yorkshire/United Kingdom', '/Nigeria/United Kingdom',\n",
       "       '/India/United Kingdom', '/uk/United Kingdom',\n",
       "       '/Cambridgeshire/United Kingdom', '/Devon/United Kingdom',\n",
       "       '/Bedfordshire/United Kingdom', '/Brackley/United Kingdom',\n",
       "       'Adare Manor Hotel   //Ireland', '/Dorset/United Kingdom',\n",
       "       '/Scotland/United Kingdom', '/East Horsley/United Kingdom',\n",
       "       '/FDZS/United Kingdom', '/Scotland /United Kingdom',\n",
       "       '/East Surrey/United Kingdom', '/Birmingham/United Kingdom',\n",
       "       '/Manchester/United Kingdom',\n",
       "       'Trigger Concepts Ltd   /Reading/United Kingdom',\n",
       "       '/\\tWest Drayton , Harmondsworth/United Kingdom',\n",
       "       '/york/United Kingdom', '/Israel/United Kingdom',\n",
       "       '/Norfolk/United Kingdom', '/West Midlands/United Kingdom',\n",
       "       '/vv/United Kingdom', '/Lancashire/United Kingdom',\n",
       "       '/Ireland/United Kingdom', '/Glasgow City/United Kingdom',\n",
       "       '/kent/United Kingdom', '/Derby/United Kingdom',\n",
       "       '/East Sussex/United Kingdom', '/East Yorkshire/United Kingdom',\n",
       "       '/Ghana/United Kingdom', '/Manorhamilton/Ireland',\n",
       "       '/Saudi Arabia /United Kingdom', '/Default/United Kingdom',\n",
       "       '/West Sussex/United Kingdom', '/Switzerland/United Kingdom',\n",
       "       '/Singapore/United Kingdom', '/Birmingham /United Kingdom',\n",
       "       '/UAE/United Kingdom', '/LONDON/United Kingdom',\n",
       "       '/Sri Lanka /United Kingdom', '/Nigeria /United Kingdom',\n",
       "       '/middlesex/United Kingdom', '29 Pine Walk  /Liss/',\n",
       "       'Margaret Gardens  /Uk/United Kingdom', '/Newry/United Kingdom',\n",
       "       '/Colchester/United Kingdom', '/Bristol/United Kingdom',\n",
       "       '/Windsor/United Kingdom', '/Uxbridge/United Kingdom',\n",
       "       '/日本/United Kingdom', '/Leicester/United Kingdom',\n",
       "       '/NOTTINGHAMSHIRE/United Kingdom', '/jkjpjpo/United Kingdom',\n",
       "       '/Glasgow/United Kingdom', '/Wrexham/United Kingdom',\n",
       "       '/lincolnshire/United Kingdom', '/Wooburn Green/United Kingdom',\n",
       "       '/Oxford/United Kingdom', 'Grand Visual  //United Kingdom',\n",
       "       '/Montenegro/United Kingdom', '/Bucks/United Kingdom',\n",
       "       '/Middlesex/United Kingdom', '/County/United Kingdom',\n",
       "       '/Borehamwood/United Kingdom', '/Staffs/United Kingdom',\n",
       "       '/Wotton-under-Edge/United Kingdom', '/York/United Kingdom',\n",
       "       '/Redhill/United Kingdom', '/Darlington/United Kingdom',\n",
       "       '/Leiria/United Kingdom', '/Ipswich/United Kingdom',\n",
       "       '/ Farnham / United Kingdom', '/ brockenhurst / United Kingdom',\n",
       "       '/ Surrey / United Kingdom', '/ Doncaster / United Kingdom',\n",
       "       '/ Read / United Kingdom', '/ Greater London / United Kingdom',\n",
       "       '/ Royal Wootton Bassett / United Kingdom',\n",
       "       '/ Preston  / United Kingdom', '/ Watford / United Kingdom',\n",
       "       '/ Boston / United Kingdom', '/ Harlow  / United Kingdom',\n",
       "       '/ Bath / United Kingdom', '/ London / United Kingdom',\n",
       "       '/ Homestead/FL / United Kingdom', '/ Essex / United Kingdom',\n",
       "       '/ Leamington Spa / United Kingdom',\n",
       "       '/ Manchester / United Kingdom', '/ Kent / United Kingdom',\n",
       "       '/ Borehamwood  / United Kingdom', '/ Wokingham / United Kingdom',\n",
       "       '/ ENG / United Kingdom', '/ Slough / United Kingdom',\n",
       "       '/ Surbiton / United Kingdom', '/ London  / United Kingdom',\n",
       "       '/ Tamworth Staffs / United Kingdom', '/ Kildare  / Ireland',\n",
       "       '/ Worcestershire  / United Kingdom',\n",
       "       '/ Cheshire / United Kingdom', '/ Ballinamallard / United Kingdom',\n",
       "       '/wseds/United Kingdom', '/Sykehouse/United Kingdom',\n",
       "       '/Rugby/United Kingdom', '/Great Britain. /United Kingdom',\n",
       "       '/Wiltshire/United Kingdom', '/Hertfordshire/United Kingdom',\n",
       "       '/Libya/United Kingdom', '/Kildare/United Kingdom',\n",
       "       '/Staffordshire/United Kingdom', '/Hulhumale/Maldives',\n",
       "       '/Cambridge/United Kingdom', '/North Yorkshire/United Kingdom',\n",
       "       '/NSW/United Kingdom', '/ENG/United Kingdom',\n",
       "       '/Cambrideshire/United Kingdom', '/Buckinghamshire/United Kingdom',\n",
       "       '/Malta/United Kingdom', '/Lungi, Freetown /United Kingdom',\n",
       "       '/Wirral/United Kingdom', '/GB/United Kingdom',\n",
       "       '/Colombo 11/Sri Lanka', '/Isle of Wight/United Kingdom',\n",
       "       '/Cleveland /United Kingdom', '/lincolnshire /United Kingdom',\n",
       "       '/dwdw/United Kingdom', '/USA/United Kingdom',\n",
       "       '/adsf/United Kingdom', '/Telford/United Kingdom',\n",
       "       '/SOUTHAMPTON/United Kingdom', '/Wales uk/United Kingdom',\n",
       "       '/Ireland', '/Herts/United Kingdom', '/Azerbaijan/United Kingdom',\n",
       "       '/Bury St Edmunds/United Kingdom', '/Qatar/United Kingdom',\n",
       "       '/Birghman or London/United Kingdom',\n",
       "       '/United Arab Emirates/United Kingdom',\n",
       "       '/Liverpool/United Kingdom', '/Lonodn/United Kingdom',\n",
       "       '/Australia/United Kingdom', '/Worcester /United Kingdom',\n",
       "       '/Ireland /United Kingdom', '/Reading/United Kingdom',\n",
       "       '/Sheffield/United Kingdom', '/beaconsfield/United Kingdom',\n",
       "       '/Leicester /United Kingdom', '/Orpington, Kent/United Kingdom',\n",
       "       '/Stockport/United Kingdom', '/Merseyside/United Kingdom',\n",
       "       '/N/A/United Kingdom', '/Hitchin Hertfordshire/United Kingdom',\n",
       "       '/Neath Port Talbot/United Kingdom', '/Netherlands/United Kingdom',\n",
       "       '/Preston /United Kingdom',\n",
       "       '/Perth and Kinross, Scotland/United Kingdom',\n",
       "       '/Kuwait/United Kingdom', '/NHS Lothian/United Kingdom',\n",
       "       '/Slovakia/United Kingdom', '/Dublin/United Kingdom',\n",
       "       '/United kingdom /United Kingdom', '/Peje/United Kingdom',\n",
       "       '/Erith/United Kingdom', '/San Pablo City/United Kingdom',\n",
       "       '/Friarland/Ireland', '/Suffolk/United Kingdom',\n",
       "       '/Bristol /United Kingdom', '/sadf/United Kingdom',\n",
       "       '/New Zealand/United Kingdom', '/scotland/United Kingdom',\n",
       "       '/Chichester/United Kingdom', '/Newport/United Kingdom',\n",
       "       '/Moray/United Kingdom', '/Herefordshire/United Kingdom',\n",
       "       '/West midlands/United Kingdom', '/Huddersfield/United Kingdom',\n",
       "       '/United States/United Kingdom', '/Spain/United Kingdom',\n",
       "       '/Lincolnshire/United Kingdom', '/Nottingham/United Kingdom',\n",
       "       '31-35 Kirby Street, London  /London/United Kingdom',\n",
       "       '/Buckinghamshire /United Kingdom', '/devon/United Kingdom',\n",
       "       '/Greater London/United Kingdom', '/istanbul/United Kingdom',\n",
       "       '/Peterborough/United Kingdom',\n",
       "       '/Osgathorpe, Loughborough/United Kingdom',\n",
       "       '/United Kindgom/United Kingdom', '/west midlands/United Kingdom',\n",
       "       '/West Glamorgan/United Kingdom', '/Cardiff/United Kingdom',\n",
       "       '/Edinburgh/United Kingdom', '/Hemel Hempstead/United Kingdom',\n",
       "       '/Southampton/United Kingdom', '/Cirencester/United Kingdom',\n",
       "       '/Uk /United Kingdom', '/Highland/United Kingdom',\n",
       "       '/Warminister/United Kingdom', '/dsf/United Kingdom',\n",
       "       '/Gwynedd/United Kingdom', '/KENT/United Kingdom',\n",
       "       '/Pembrokeshire/United Kingdom', '/Leicestershire /United Kingdom',\n",
       "       'United Kingdom', 'Ireland', '/dfdsfd/United Kingdom',\n",
       "       '/Kathmandu/United Kingdom', '/Sunbury-on-Thames/United Kingdom',\n",
       "       '/essex/United Kingdom', '/Antrim/United Kingdom',\n",
       "       '/Cheshire/United Kingdom', '/Louth/United Kingdom',\n",
       "       '/Thailand/United Kingdom', '/isle of wight/United Kingdom',\n",
       "       '/switzerland/United Kingdom', '/Worcestershire/United Kingdom',\n",
       "       '/Berkshire/United Kingdom', '/Warwickshire/United Kingdom',\n",
       "       '34A Oakwood Court  /London/United Kingdom',\n",
       "       '/North West/United Kingdom', '/lancashire/United Kingdom',\n",
       "       '/London ruislip/United Kingdom', '/Thailand /United Kingdom',\n",
       "       '/BRACKNELL/United Kingdom', '/Argyll/United Kingdom',\n",
       "       '/DUBLIN/Australia', '/Bournemouth/United Kingdom',\n",
       "       '/Upminster/United Kingdom', '/SURREY/United Kingdom',\n",
       "       '/manchester/United Kingdom', '/USA /United Kingdom',\n",
       "       '/Bayern/United Kingdom', '/Marcham/United Kingdom',\n",
       "       '/Tain/United Kingdom', '//Isle of Man',\n",
       "       '/Cambridge /United Kingdom', '//',\n",
       "       'Park Road  /Fetcham/United Kingdom',\n",
       "       '/Unite Kingdom/United Kingdom', '/Vietnam/United Kingdom',\n",
       "       '/kjh/United Kingdom'], dtype=object)"
      ]
     },
     "execution_count": 114,
     "metadata": {},
     "output_type": "execute_result"
    }
   ],
   "source": [
    "df_train[df_train['response_corporate'] == 'LGEUK']['customer_country'].unique()"
   ]
  },
  {
   "cell_type": "code",
   "execution_count": 128,
   "id": "2fed98ef",
   "metadata": {},
   "outputs": [
    {
     "data": {
      "text/html": [
       "<div>\n",
       "<style scoped>\n",
       "    .dataframe tbody tr th:only-of-type {\n",
       "        vertical-align: middle;\n",
       "    }\n",
       "\n",
       "    .dataframe tbody tr th {\n",
       "        vertical-align: top;\n",
       "    }\n",
       "\n",
       "    .dataframe thead th {\n",
       "        text-align: right;\n",
       "    }\n",
       "</style>\n",
       "<table border=\"1\" class=\"dataframe\">\n",
       "  <thead>\n",
       "    <tr style=\"text-align: right;\">\n",
       "      <th></th>\n",
       "      <th>bant_submit</th>\n",
       "      <th>customer_country</th>\n",
       "      <th>business_unit</th>\n",
       "      <th>com_reg_ver_win_rate</th>\n",
       "      <th>customer_idx</th>\n",
       "      <th>customer_type</th>\n",
       "      <th>enterprise</th>\n",
       "      <th>historical_existing_cnt</th>\n",
       "      <th>id_strategic_ver</th>\n",
       "      <th>it_strategic_ver</th>\n",
       "      <th>...</th>\n",
       "      <th>response_corporate</th>\n",
       "      <th>expected_timeline</th>\n",
       "      <th>ver_cus</th>\n",
       "      <th>ver_pro</th>\n",
       "      <th>ver_win_rate_x</th>\n",
       "      <th>ver_win_ratio_per_bu</th>\n",
       "      <th>business_area</th>\n",
       "      <th>business_subarea</th>\n",
       "      <th>lead_owner</th>\n",
       "      <th>is_converted</th>\n",
       "    </tr>\n",
       "  </thead>\n",
       "  <tbody>\n",
       "    <tr>\n",
       "      <th>398</th>\n",
       "      <td>0.75</td>\n",
       "      <td>//</td>\n",
       "      <td>ID</td>\n",
       "      <td>0.084337</td>\n",
       "      <td>44601</td>\n",
       "      <td>Channel Partner</td>\n",
       "      <td>SMB</td>\n",
       "      <td>NaN</td>\n",
       "      <td>1.0</td>\n",
       "      <td>NaN</td>\n",
       "      <td>...</td>\n",
       "      <td>LGEIN</td>\n",
       "      <td>3 months ~ 6 months</td>\n",
       "      <td>0</td>\n",
       "      <td>1</td>\n",
       "      <td>0.003079</td>\n",
       "      <td>0.064566</td>\n",
       "      <td>corporate / office</td>\n",
       "      <td>Others</td>\n",
       "      <td>154</td>\n",
       "      <td>True</td>\n",
       "    </tr>\n",
       "    <tr>\n",
       "      <th>670</th>\n",
       "      <td>1.00</td>\n",
       "      <td>//</td>\n",
       "      <td>ID</td>\n",
       "      <td>0.074949</td>\n",
       "      <td>17993</td>\n",
       "      <td>NaN</td>\n",
       "      <td>SMB</td>\n",
       "      <td>NaN</td>\n",
       "      <td>1.0</td>\n",
       "      <td>NaN</td>\n",
       "      <td>...</td>\n",
       "      <td>LGECB</td>\n",
       "      <td>3 months ~ 6 months</td>\n",
       "      <td>0</td>\n",
       "      <td>0</td>\n",
       "      <td>0.003079</td>\n",
       "      <td>0.064566</td>\n",
       "      <td>corporate / office</td>\n",
       "      <td>NaN</td>\n",
       "      <td>212</td>\n",
       "      <td>False</td>\n",
       "    </tr>\n",
       "    <tr>\n",
       "      <th>671</th>\n",
       "      <td>1.00</td>\n",
       "      <td>//</td>\n",
       "      <td>ID</td>\n",
       "      <td>0.074949</td>\n",
       "      <td>21216</td>\n",
       "      <td>NaN</td>\n",
       "      <td>SMB</td>\n",
       "      <td>NaN</td>\n",
       "      <td>1.0</td>\n",
       "      <td>NaN</td>\n",
       "      <td>...</td>\n",
       "      <td>LGECB</td>\n",
       "      <td>3 months ~ 6 months</td>\n",
       "      <td>0</td>\n",
       "      <td>0</td>\n",
       "      <td>0.003079</td>\n",
       "      <td>0.064566</td>\n",
       "      <td>corporate / office</td>\n",
       "      <td>NaN</td>\n",
       "      <td>230</td>\n",
       "      <td>False</td>\n",
       "    </tr>\n",
       "    <tr>\n",
       "      <th>672</th>\n",
       "      <td>1.00</td>\n",
       "      <td>//</td>\n",
       "      <td>ID</td>\n",
       "      <td>0.074949</td>\n",
       "      <td>35054</td>\n",
       "      <td>NaN</td>\n",
       "      <td>SMB</td>\n",
       "      <td>NaN</td>\n",
       "      <td>1.0</td>\n",
       "      <td>NaN</td>\n",
       "      <td>...</td>\n",
       "      <td>LGECB</td>\n",
       "      <td>3 months ~ 6 months</td>\n",
       "      <td>0</td>\n",
       "      <td>0</td>\n",
       "      <td>0.003079</td>\n",
       "      <td>0.064566</td>\n",
       "      <td>corporate / office</td>\n",
       "      <td>NaN</td>\n",
       "      <td>187</td>\n",
       "      <td>False</td>\n",
       "    </tr>\n",
       "    <tr>\n",
       "      <th>673</th>\n",
       "      <td>1.00</td>\n",
       "      <td>//</td>\n",
       "      <td>ID</td>\n",
       "      <td>0.074949</td>\n",
       "      <td>19465</td>\n",
       "      <td>NaN</td>\n",
       "      <td>Enterprise</td>\n",
       "      <td>NaN</td>\n",
       "      <td>1.0</td>\n",
       "      <td>NaN</td>\n",
       "      <td>...</td>\n",
       "      <td>LGECB</td>\n",
       "      <td>3 months ~ 6 months</td>\n",
       "      <td>0</td>\n",
       "      <td>0</td>\n",
       "      <td>0.003079</td>\n",
       "      <td>0.064566</td>\n",
       "      <td>corporate / office</td>\n",
       "      <td>NaN</td>\n",
       "      <td>231</td>\n",
       "      <td>False</td>\n",
       "    </tr>\n",
       "    <tr>\n",
       "      <th>...</th>\n",
       "      <td>...</td>\n",
       "      <td>...</td>\n",
       "      <td>...</td>\n",
       "      <td>...</td>\n",
       "      <td>...</td>\n",
       "      <td>...</td>\n",
       "      <td>...</td>\n",
       "      <td>...</td>\n",
       "      <td>...</td>\n",
       "      <td>...</td>\n",
       "      <td>...</td>\n",
       "      <td>...</td>\n",
       "      <td>...</td>\n",
       "      <td>...</td>\n",
       "      <td>...</td>\n",
       "      <td>...</td>\n",
       "      <td>...</td>\n",
       "      <td>...</td>\n",
       "      <td>...</td>\n",
       "      <td>...</td>\n",
       "      <td>...</td>\n",
       "    </tr>\n",
       "    <tr>\n",
       "      <th>55986</th>\n",
       "      <td>1.00</td>\n",
       "      <td>//</td>\n",
       "      <td>ID</td>\n",
       "      <td>0.054422</td>\n",
       "      <td>37734</td>\n",
       "      <td>NaN</td>\n",
       "      <td>Enterprise</td>\n",
       "      <td>0.0</td>\n",
       "      <td>NaN</td>\n",
       "      <td>NaN</td>\n",
       "      <td>...</td>\n",
       "      <td>LGECB</td>\n",
       "      <td>3 months ~ 6 months</td>\n",
       "      <td>0</td>\n",
       "      <td>0</td>\n",
       "      <td>0.000097</td>\n",
       "      <td>0.079412</td>\n",
       "      <td>government department</td>\n",
       "      <td>NaN</td>\n",
       "      <td>233</td>\n",
       "      <td>False</td>\n",
       "    </tr>\n",
       "    <tr>\n",
       "      <th>55987</th>\n",
       "      <td>1.00</td>\n",
       "      <td>//</td>\n",
       "      <td>ID</td>\n",
       "      <td>0.054422</td>\n",
       "      <td>17892</td>\n",
       "      <td>NaN</td>\n",
       "      <td>SMB</td>\n",
       "      <td>NaN</td>\n",
       "      <td>NaN</td>\n",
       "      <td>NaN</td>\n",
       "      <td>...</td>\n",
       "      <td>LGECB</td>\n",
       "      <td>3 months ~ 6 months</td>\n",
       "      <td>0</td>\n",
       "      <td>0</td>\n",
       "      <td>0.000097</td>\n",
       "      <td>0.079412</td>\n",
       "      <td>government department</td>\n",
       "      <td>NaN</td>\n",
       "      <td>233</td>\n",
       "      <td>False</td>\n",
       "    </tr>\n",
       "    <tr>\n",
       "      <th>56228</th>\n",
       "      <td>0.50</td>\n",
       "      <td>//</td>\n",
       "      <td>IT</td>\n",
       "      <td>NaN</td>\n",
       "      <td>38852</td>\n",
       "      <td>NaN</td>\n",
       "      <td>Enterprise</td>\n",
       "      <td>NaN</td>\n",
       "      <td>NaN</td>\n",
       "      <td>NaN</td>\n",
       "      <td>...</td>\n",
       "      <td>LGEPS</td>\n",
       "      <td>NaN</td>\n",
       "      <td>0</td>\n",
       "      <td>0</td>\n",
       "      <td>0.000097</td>\n",
       "      <td>NaN</td>\n",
       "      <td>government department</td>\n",
       "      <td>NaN</td>\n",
       "      <td>875</td>\n",
       "      <td>False</td>\n",
       "    </tr>\n",
       "    <tr>\n",
       "      <th>56231</th>\n",
       "      <td>0.25</td>\n",
       "      <td>//</td>\n",
       "      <td>IT</td>\n",
       "      <td>NaN</td>\n",
       "      <td>38852</td>\n",
       "      <td>NaN</td>\n",
       "      <td>Enterprise</td>\n",
       "      <td>NaN</td>\n",
       "      <td>NaN</td>\n",
       "      <td>NaN</td>\n",
       "      <td>...</td>\n",
       "      <td>LGEPS</td>\n",
       "      <td>NaN</td>\n",
       "      <td>0</td>\n",
       "      <td>0</td>\n",
       "      <td>0.000097</td>\n",
       "      <td>NaN</td>\n",
       "      <td>government department</td>\n",
       "      <td>NaN</td>\n",
       "      <td>875</td>\n",
       "      <td>False</td>\n",
       "    </tr>\n",
       "    <tr>\n",
       "      <th>57797</th>\n",
       "      <td>1.00</td>\n",
       "      <td>//</td>\n",
       "      <td>ID</td>\n",
       "      <td>0.124122</td>\n",
       "      <td>21935</td>\n",
       "      <td>NaN</td>\n",
       "      <td>SMB</td>\n",
       "      <td>NaN</td>\n",
       "      <td>1.0</td>\n",
       "      <td>NaN</td>\n",
       "      <td>...</td>\n",
       "      <td>LGECB</td>\n",
       "      <td>3 months ~ 6 months</td>\n",
       "      <td>0</td>\n",
       "      <td>0</td>\n",
       "      <td>0.000717</td>\n",
       "      <td>0.071345</td>\n",
       "      <td>hotel &amp; accommodation</td>\n",
       "      <td>NaN</td>\n",
       "      <td>233</td>\n",
       "      <td>False</td>\n",
       "    </tr>\n",
       "  </tbody>\n",
       "</table>\n",
       "<p>669 rows × 29 columns</p>\n",
       "</div>"
      ],
      "text/plain": [
       "       bant_submit customer_country business_unit  com_reg_ver_win_rate  \\\n",
       "398           0.75               //            ID              0.084337   \n",
       "670           1.00               //            ID              0.074949   \n",
       "671           1.00               //            ID              0.074949   \n",
       "672           1.00               //            ID              0.074949   \n",
       "673           1.00               //            ID              0.074949   \n",
       "...            ...              ...           ...                   ...   \n",
       "55986         1.00               //            ID              0.054422   \n",
       "55987         1.00               //            ID              0.054422   \n",
       "56228         0.50               //            IT                   NaN   \n",
       "56231         0.25               //            IT                   NaN   \n",
       "57797         1.00               //            ID              0.124122   \n",
       "\n",
       "       customer_idx    customer_type  enterprise  historical_existing_cnt  \\\n",
       "398           44601  Channel Partner         SMB                      NaN   \n",
       "670           17993              NaN         SMB                      NaN   \n",
       "671           21216              NaN         SMB                      NaN   \n",
       "672           35054              NaN         SMB                      NaN   \n",
       "673           19465              NaN  Enterprise                      NaN   \n",
       "...             ...              ...         ...                      ...   \n",
       "55986         37734              NaN  Enterprise                      0.0   \n",
       "55987         17892              NaN         SMB                      NaN   \n",
       "56228         38852              NaN  Enterprise                      NaN   \n",
       "56231         38852              NaN  Enterprise                      NaN   \n",
       "57797         21935              NaN         SMB                      NaN   \n",
       "\n",
       "       id_strategic_ver  it_strategic_ver  ...  response_corporate  \\\n",
       "398                 1.0               NaN  ...               LGEIN   \n",
       "670                 1.0               NaN  ...               LGECB   \n",
       "671                 1.0               NaN  ...               LGECB   \n",
       "672                 1.0               NaN  ...               LGECB   \n",
       "673                 1.0               NaN  ...               LGECB   \n",
       "...                 ...               ...  ...                 ...   \n",
       "55986               NaN               NaN  ...               LGECB   \n",
       "55987               NaN               NaN  ...               LGECB   \n",
       "56228               NaN               NaN  ...               LGEPS   \n",
       "56231               NaN               NaN  ...               LGEPS   \n",
       "57797               1.0               NaN  ...               LGECB   \n",
       "\n",
       "         expected_timeline  ver_cus ver_pro ver_win_rate_x  \\\n",
       "398    3 months ~ 6 months        0       1       0.003079   \n",
       "670    3 months ~ 6 months        0       0       0.003079   \n",
       "671    3 months ~ 6 months        0       0       0.003079   \n",
       "672    3 months ~ 6 months        0       0       0.003079   \n",
       "673    3 months ~ 6 months        0       0       0.003079   \n",
       "...                    ...      ...     ...            ...   \n",
       "55986  3 months ~ 6 months        0       0       0.000097   \n",
       "55987  3 months ~ 6 months        0       0       0.000097   \n",
       "56228                  NaN        0       0       0.000097   \n",
       "56231                  NaN        0       0       0.000097   \n",
       "57797  3 months ~ 6 months        0       0       0.000717   \n",
       "\n",
       "      ver_win_ratio_per_bu          business_area business_subarea lead_owner  \\\n",
       "398               0.064566     corporate / office           Others        154   \n",
       "670               0.064566     corporate / office              NaN        212   \n",
       "671               0.064566     corporate / office              NaN        230   \n",
       "672               0.064566     corporate / office              NaN        187   \n",
       "673               0.064566     corporate / office              NaN        231   \n",
       "...                    ...                    ...              ...        ...   \n",
       "55986             0.079412  government department              NaN        233   \n",
       "55987             0.079412  government department              NaN        233   \n",
       "56228                  NaN  government department              NaN        875   \n",
       "56231                  NaN  government department              NaN        875   \n",
       "57797             0.071345  hotel & accommodation              NaN        233   \n",
       "\n",
       "      is_converted  \n",
       "398           True  \n",
       "670          False  \n",
       "671          False  \n",
       "672          False  \n",
       "673          False  \n",
       "...            ...  \n",
       "55986        False  \n",
       "55987        False  \n",
       "56228        False  \n",
       "56231        False  \n",
       "57797        False  \n",
       "\n",
       "[669 rows x 29 columns]"
      ]
     },
     "execution_count": 128,
     "metadata": {},
     "output_type": "execute_result"
    }
   ],
   "source": [
    "df_train[df_train['customer_country'] == '//']"
   ]
  },
  {
   "cell_type": "code",
   "execution_count": 113,
   "id": "deb22e0c",
   "metadata": {},
   "outputs": [
    {
     "data": {
      "text/plain": [
       "response_corporate\n",
       "LGESP    558\n",
       "LGEUK    123\n",
       "LGEDG     97\n",
       "LGEGF     45\n",
       "LGEIL     26\n",
       "LGEFS     13\n",
       "LGESJ     10\n",
       "LGEES     10\n",
       "LGEPH      9\n",
       "LGEVH      8\n",
       "LGEPS      8\n",
       "LGEAR      8\n",
       "LGEIN      7\n",
       "LGEMS      6\n",
       "LGEKR      6\n",
       "LGECL      5\n",
       "LGESA      5\n",
       "LGEAF      4\n",
       "LGETK      4\n",
       "LGEEG      4\n",
       "LGEML      3\n",
       "LGESL      3\n",
       "LGEPR      3\n",
       "LGEHK      2\n",
       "LGEPL      2\n",
       "LGEIS      2\n",
       "LGECI      2\n",
       "LGEEF      2\n",
       "LGEHS      1\n",
       "LGELF      1\n",
       "LGETH      1\n",
       "LGEJP      1\n",
       "LGEBN      1\n",
       "LGESW      1\n",
       "LGEAP      1\n",
       "Name: count, dtype: int64"
      ]
     },
     "execution_count": 113,
     "metadata": {},
     "output_type": "execute_result"
    }
   ],
   "source": [
    "df_train[df_train['customer_country.1'].isnull()]['response_corporate'].value_counts()"
   ]
  },
  {
   "cell_type": "code",
   "execution_count": 95,
   "id": "f1c1aaa7",
   "metadata": {
    "scrolled": true
   },
   "outputs": [
    {
     "data": {
      "text/plain": [
       "response_corporate\n",
       "LGEIL    16908\n",
       "LGESP     9311\n",
       "LGEUS     5955\n",
       "LGEMS     2768\n",
       "LGEPH     2651\n",
       "LGEGF     2149\n",
       "LGECB     2079\n",
       "LGEUK     1651\n",
       "LGESJ     1469\n",
       "LGECL     1339\n",
       "LGEPS     1252\n",
       "LGEIS     1146\n",
       "LGEPR     1131\n",
       "LGEDG     1051\n",
       "LGEPL      850\n",
       "LGEEG      704\n",
       "LGEVH      614\n",
       "LGEES      592\n",
       "LGETK      541\n",
       "LGEAR      491\n",
       "LGEKR      433\n",
       "LGEHK      383\n",
       "LGEAP      366\n",
       "LGESL      348\n",
       "LGEMK      331\n",
       "LGEFS      302\n",
       "LGEAF      288\n",
       "LGEIN      281\n",
       "LGELF      274\n",
       "LGESA      268\n",
       "LGECI      263\n",
       "LGETH      185\n",
       "LGEEF      159\n",
       "LGEPT      111\n",
       "LGEML      110\n",
       "LGEBN       99\n",
       "LGEYK       78\n",
       "LGECH       65\n",
       "LGEHS       51\n",
       "LGETT       47\n",
       "LGEJP       41\n",
       "LGEAS       33\n",
       "LGESW       31\n",
       "LGEMC       30\n",
       "LGERO       29\n",
       "LGEEB       13\n",
       "LGEAG        8\n",
       "LGERA        8\n",
       "LGECZ        7\n",
       "LGELA        2\n",
       "LGEUR        1\n",
       "LGEIR        1\n",
       "LGEBT        1\n",
       "Name: count, dtype: int64"
      ]
     },
     "execution_count": 95,
     "metadata": {},
     "output_type": "execute_result"
    }
   ],
   "source": [
    "df_train['response_corporate'].value_counts(dropna = False)"
   ]
  },
  {
   "cell_type": "markdown",
   "id": "b1732aee",
   "metadata": {},
   "source": [
    "customer_country는 train과 test모두에서 drop하기로 하자. response_corporate와 겹친다. "
   ]
  },
  {
   "cell_type": "code",
   "execution_count": 132,
   "id": "f41c2554",
   "metadata": {},
   "outputs": [
    {
     "data": {
      "text/plain": [
       "ver_win_ratio_per_bu\n",
       "0.064566    2460\n",
       "0.049840    2028\n",
       "0.020121    1365\n",
       "0.048630    1356\n",
       "0.026846    1278\n",
       "0.064070    1075\n",
       "0.071345     984\n",
       "0.011583     788\n",
       "0.022634     713\n",
       "0.060924     540\n",
       "0.079412     421\n",
       "0.036913     403\n",
       "0.035484     385\n",
       "0.031579     271\n",
       "0.053571     216\n",
       "0.051471     210\n",
       "0.028777     200\n",
       "0.022727     173\n",
       "0.128571     156\n",
       "0.131148     148\n",
       "0.227273      62\n",
       "0.285714      43\n",
       "0.034483      29\n",
       "Name: count, dtype: int64"
      ]
     },
     "execution_count": 132,
     "metadata": {},
     "output_type": "execute_result"
    }
   ],
   "source": [
    "df_train['ver_win_ratio_per_bu'].value_counts()"
   ]
  },
  {
   "cell_type": "markdown",
   "id": "4bd47e00",
   "metadata": {},
   "source": [
    "### 레이블 인코딩"
   ]
  },
  {
   "cell_type": "code",
   "execution_count": 5,
   "id": "0b42b1a1",
   "metadata": {},
   "outputs": [],
   "source": [
    "def label_encoding(series: pd.Series) -> pd.Series:\n",
    "    \"\"\"범주형 데이터를 시리즈 형태로 받아 숫자형 데이터로 변환합니다.\"\"\"\n",
    "\n",
    "    my_dict = {}\n",
    "\n",
    "    # 모든 요소를 문자열로 변환\n",
    "    series = series.astype(str)\n",
    "\n",
    "    for idx, value in enumerate(sorted(series.unique())):\n",
    "        my_dict[value] = idx\n",
    "    series = series.map(my_dict)\n",
    "\n",
    "    return series"
   ]
  },
  {
   "cell_type": "code",
   "execution_count": 6,
   "id": "881a4612",
   "metadata": {},
   "outputs": [],
   "source": [
    "# 레이블 인코딩할 칼럼들\n",
    "label_columns = [\n",
    "    \"customer_country\",\n",
    "    \"business_subarea\",\n",
    "    \"business_area\",\n",
    "    \"business_unit\",\n",
    "    \"customer_type\",\n",
    "    \"enterprise\",\n",
    "    \"customer_job\",\n",
    "    \"inquiry_type\",\n",
    "    \"product_category\",\n",
    "    \"product_subcategory\",\n",
    "    \"product_modelname\",\n",
    "    \"customer_country.1\",\n",
    "    \"customer_position\",\n",
    "    \"response_corporate\",\n",
    "    \"expected_timeline\",\n",
    "]\n",
    "\n",
    "df_all = pd.concat([df_train[label_columns], df_test[label_columns]])\n",
    "\n",
    "for col in label_columns:\n",
    "    df_all[col] = label_encoding(df_all[col])"
   ]
  },
  {
   "cell_type": "markdown",
   "id": "3a477f93",
   "metadata": {},
   "source": [
    "다시 학습 데이터와 제출 데이터를 분리합니다."
   ]
  },
  {
   "cell_type": "code",
   "execution_count": 7,
   "id": "ff10c5fb",
   "metadata": {},
   "outputs": [],
   "source": [
    "for col in label_columns:  \n",
    "    df_train[col] = df_all.iloc[: len(df_train)][col]\n",
    "    df_test[col] = df_all.iloc[len(df_train) :][col]"
   ]
  },
  {
   "cell_type": "markdown",
   "id": "d332358a",
   "metadata": {},
   "source": [
    "### 2-2. 학습, 검증 데이터 분리"
   ]
  },
  {
   "cell_type": "code",
   "execution_count": 8,
   "id": "27c9e205",
   "metadata": {},
   "outputs": [],
   "source": [
    "x_train, x_val, y_train, y_val = train_test_split(\n",
    "    df_train.drop(\"is_converted\", axis=1),\n",
    "    df_train[\"is_converted\"],\n",
    "    test_size=0.2,\n",
    "    shuffle=True,\n",
    "    random_state=400,\n",
    ")"
   ]
  },
  {
   "cell_type": "markdown",
   "id": "79ecfa9b",
   "metadata": {},
   "source": [
    "## 3. 모델 학습"
   ]
  },
  {
   "cell_type": "markdown",
   "id": "3caf257b",
   "metadata": {},
   "source": [
    "### 모델 정의 "
   ]
  },
  {
   "cell_type": "code",
   "execution_count": 9,
   "id": "e4509af0",
   "metadata": {},
   "outputs": [],
   "source": [
    "model = DecisionTreeClassifier()"
   ]
  },
  {
   "cell_type": "markdown",
   "id": "cacd5ed8",
   "metadata": {},
   "source": [
    "### 모델 학습"
   ]
  },
  {
   "cell_type": "code",
   "execution_count": 10,
   "id": "766d1980",
   "metadata": {},
   "outputs": [
    {
     "data": {
      "text/html": [
       "<style>#sk-container-id-1 {color: black;background-color: white;}#sk-container-id-1 pre{padding: 0;}#sk-container-id-1 div.sk-toggleable {background-color: white;}#sk-container-id-1 label.sk-toggleable__label {cursor: pointer;display: block;width: 100%;margin-bottom: 0;padding: 0.3em;box-sizing: border-box;text-align: center;}#sk-container-id-1 label.sk-toggleable__label-arrow:before {content: \"▸\";float: left;margin-right: 0.25em;color: #696969;}#sk-container-id-1 label.sk-toggleable__label-arrow:hover:before {color: black;}#sk-container-id-1 div.sk-estimator:hover label.sk-toggleable__label-arrow:before {color: black;}#sk-container-id-1 div.sk-toggleable__content {max-height: 0;max-width: 0;overflow: hidden;text-align: left;background-color: #f0f8ff;}#sk-container-id-1 div.sk-toggleable__content pre {margin: 0.2em;color: black;border-radius: 0.25em;background-color: #f0f8ff;}#sk-container-id-1 input.sk-toggleable__control:checked~div.sk-toggleable__content {max-height: 200px;max-width: 100%;overflow: auto;}#sk-container-id-1 input.sk-toggleable__control:checked~label.sk-toggleable__label-arrow:before {content: \"▾\";}#sk-container-id-1 div.sk-estimator input.sk-toggleable__control:checked~label.sk-toggleable__label {background-color: #d4ebff;}#sk-container-id-1 div.sk-label input.sk-toggleable__control:checked~label.sk-toggleable__label {background-color: #d4ebff;}#sk-container-id-1 input.sk-hidden--visually {border: 0;clip: rect(1px 1px 1px 1px);clip: rect(1px, 1px, 1px, 1px);height: 1px;margin: -1px;overflow: hidden;padding: 0;position: absolute;width: 1px;}#sk-container-id-1 div.sk-estimator {font-family: monospace;background-color: #f0f8ff;border: 1px dotted black;border-radius: 0.25em;box-sizing: border-box;margin-bottom: 0.5em;}#sk-container-id-1 div.sk-estimator:hover {background-color: #d4ebff;}#sk-container-id-1 div.sk-parallel-item::after {content: \"\";width: 100%;border-bottom: 1px solid gray;flex-grow: 1;}#sk-container-id-1 div.sk-label:hover label.sk-toggleable__label {background-color: #d4ebff;}#sk-container-id-1 div.sk-serial::before {content: \"\";position: absolute;border-left: 1px solid gray;box-sizing: border-box;top: 0;bottom: 0;left: 50%;z-index: 0;}#sk-container-id-1 div.sk-serial {display: flex;flex-direction: column;align-items: center;background-color: white;padding-right: 0.2em;padding-left: 0.2em;position: relative;}#sk-container-id-1 div.sk-item {position: relative;z-index: 1;}#sk-container-id-1 div.sk-parallel {display: flex;align-items: stretch;justify-content: center;background-color: white;position: relative;}#sk-container-id-1 div.sk-item::before, #sk-container-id-1 div.sk-parallel-item::before {content: \"\";position: absolute;border-left: 1px solid gray;box-sizing: border-box;top: 0;bottom: 0;left: 50%;z-index: -1;}#sk-container-id-1 div.sk-parallel-item {display: flex;flex-direction: column;z-index: 1;position: relative;background-color: white;}#sk-container-id-1 div.sk-parallel-item:first-child::after {align-self: flex-end;width: 50%;}#sk-container-id-1 div.sk-parallel-item:last-child::after {align-self: flex-start;width: 50%;}#sk-container-id-1 div.sk-parallel-item:only-child::after {width: 0;}#sk-container-id-1 div.sk-dashed-wrapped {border: 1px dashed gray;margin: 0 0.4em 0.5em 0.4em;box-sizing: border-box;padding-bottom: 0.4em;background-color: white;}#sk-container-id-1 div.sk-label label {font-family: monospace;font-weight: bold;display: inline-block;line-height: 1.2em;}#sk-container-id-1 div.sk-label-container {text-align: center;}#sk-container-id-1 div.sk-container {/* jupyter's `normalize.less` sets `[hidden] { display: none; }` but bootstrap.min.css set `[hidden] { display: none !important; }` so we also need the `!important` here to be able to override the default hidden behavior on the sphinx rendered scikit-learn.org. See: https://github.com/scikit-learn/scikit-learn/issues/21755 */display: inline-block !important;position: relative;}#sk-container-id-1 div.sk-text-repr-fallback {display: none;}</style><div id=\"sk-container-id-1\" class=\"sk-top-container\"><div class=\"sk-text-repr-fallback\"><pre>DecisionTreeClassifier()</pre><b>In a Jupyter environment, please rerun this cell to show the HTML representation or trust the notebook. <br />On GitHub, the HTML representation is unable to render, please try loading this page with nbviewer.org.</b></div><div class=\"sk-container\" hidden><div class=\"sk-item\"><div class=\"sk-estimator sk-toggleable\"><input class=\"sk-toggleable__control sk-hidden--visually\" id=\"sk-estimator-id-1\" type=\"checkbox\" checked><label for=\"sk-estimator-id-1\" class=\"sk-toggleable__label sk-toggleable__label-arrow\">DecisionTreeClassifier</label><div class=\"sk-toggleable__content\"><pre>DecisionTreeClassifier()</pre></div></div></div></div></div>"
      ],
      "text/plain": [
       "DecisionTreeClassifier()"
      ]
     },
     "execution_count": 10,
     "metadata": {},
     "output_type": "execute_result"
    }
   ],
   "source": [
    "model.fit(x_train.fillna(0), y_train)"
   ]
  },
  {
   "cell_type": "markdown",
   "id": "6bf2de5f",
   "metadata": {},
   "source": [
    "### 모델 성능 보기"
   ]
  },
  {
   "cell_type": "code",
   "execution_count": 11,
   "id": "c8871444",
   "metadata": {},
   "outputs": [],
   "source": [
    "def get_clf_eval(y_test, y_pred=None):\n",
    "    confusion = confusion_matrix(y_test, y_pred, labels=[True, False])\n",
    "    accuracy = accuracy_score(y_test, y_pred)\n",
    "    precision = precision_score(y_test, y_pred, labels=[True, False])\n",
    "    recall = recall_score(y_test, y_pred)\n",
    "    F1 = f1_score(y_test, y_pred, labels=[True, False])\n",
    "\n",
    "    print(\"오차행렬:\\n\", confusion)\n",
    "    print(\"\\n정확도: {:.4f}\".format(accuracy))\n",
    "    print(\"정밀도: {:.4f}\".format(precision))\n",
    "    print(\"재현율: {:.4f}\".format(recall))\n",
    "    print(\"F1: {:.4f}\".format(F1))"
   ]
  },
  {
   "cell_type": "code",
   "execution_count": 12,
   "id": "56a86373",
   "metadata": {},
   "outputs": [
    {
     "name": "stdout",
     "output_type": "stream",
     "text": [
      "오차행렬:\n",
      " [[  732   215]\n",
      " [  260 10653]]\n",
      "\n",
      "정확도: 0.9599\n",
      "정밀도: 0.7379\n",
      "재현율: 0.7730\n",
      "F1: 0.7550\n"
     ]
    }
   ],
   "source": [
    "pred = model.predict(x_val.fillna(0))\n",
    "get_clf_eval(y_val, pred)"
   ]
  },
  {
   "cell_type": "markdown",
   "id": "7adf8300",
   "metadata": {},
   "source": [
    "## 4. 제출하기"
   ]
  },
  {
   "cell_type": "markdown",
   "id": "9d0b6e17",
   "metadata": {},
   "source": [
    "### 테스트 데이터 예측"
   ]
  },
  {
   "cell_type": "code",
   "execution_count": 13,
   "id": "43daa73c",
   "metadata": {},
   "outputs": [],
   "source": [
    "# 예측에 필요한 데이터 분리\n",
    "x_test = df_test.drop([\"is_converted\", \"id\"], axis=1)"
   ]
  },
  {
   "cell_type": "code",
   "execution_count": 14,
   "id": "d13f7a6e",
   "metadata": {},
   "outputs": [
    {
     "data": {
      "text/plain": [
       "1173"
      ]
     },
     "execution_count": 14,
     "metadata": {},
     "output_type": "execute_result"
    }
   ],
   "source": [
    "test_pred = model.predict(x_test.fillna(0))\n",
    "sum(test_pred) # True로 예측된 개수"
   ]
  },
  {
   "cell_type": "markdown",
   "id": "47f18e6a",
   "metadata": {},
   "source": [
    "### 제출 파일 작성"
   ]
  },
  {
   "cell_type": "code",
   "execution_count": 15,
   "id": "3128a458",
   "metadata": {},
   "outputs": [],
   "source": [
    "# 제출 데이터 읽어오기 (df_test는 전처리된 데이터가 저장됨)\n",
    "df_sub = pd.read_csv(\"submission.csv\")\n",
    "df_sub[\"is_converted\"] = test_pred\n",
    "\n",
    "# 제출 파일 저장\n",
    "df_sub.to_csv(\"submission_240214.csv\", index=False)"
   ]
  },
  {
   "cell_type": "markdown",
   "id": "ec7867ce",
   "metadata": {},
   "source": [
    "**우측 상단의 제출 버튼을 클릭해 결과를 확인하세요**"
   ]
  }
 ],
 "metadata": {
  "kernelspec": {
   "display_name": "Python 3 (ipykernel)",
   "language": "python",
   "name": "python3"
  },
  "language_info": {
   "codemirror_mode": {
    "name": "ipython",
    "version": 3
   },
   "file_extension": ".py",
   "mimetype": "text/x-python",
   "name": "python",
   "nbconvert_exporter": "python",
   "pygments_lexer": "ipython3",
   "version": "3.10.13"
  }
 },
 "nbformat": 4,
 "nbformat_minor": 5
}
